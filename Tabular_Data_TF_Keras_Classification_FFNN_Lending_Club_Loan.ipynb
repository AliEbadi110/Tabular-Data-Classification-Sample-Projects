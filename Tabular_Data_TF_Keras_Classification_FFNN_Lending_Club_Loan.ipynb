{
  "cells": [
    {
      "cell_type": "markdown",
      "metadata": {
        "id": "view-in-github",
        "colab_type": "text"
      },
      "source": [
        "<a href=\"https://colab.research.google.com/github/AliEbadi110/Tabular-Data-Classification-Sample-Projects/blob/main/Tabular_Data_TF_Keras_Classification_FFNN_Lending_Club_Loan.ipynb\" target=\"_parent\"><img src=\"https://colab.research.google.com/assets/colab-badge.svg\" alt=\"Open In Colab\"/></a>"
      ]
    },
    {
      "cell_type": "markdown",
      "metadata": {
        "id": "ca0a8b1b-9f1f-4657-aa2e-843459f74c5d"
      },
      "source": [
        "# **Tabular Data - TF.Keras - Classification - FFNN - Lending Club Loan**"
      ],
      "id": "ca0a8b1b-9f1f-4657-aa2e-843459f74c5d"
    },
    {
      "cell_type": "code",
      "execution_count": null,
      "metadata": {
        "id": "1808646b-ba67-4c53-87ce-1e07bfe651b6"
      },
      "outputs": [],
      "source": [
        "import numpy as np\n",
        "import pandas as pd\n",
        "\n",
        "import matplotlib.pyplot as plt\n",
        "import seaborn as sns\n",
        "%matplotlib inline\n",
        "\n",
        "from sklearn.model_selection import train_test_split\n",
        "from sklearn.preprocessing import MinMaxScaler\n",
        "from sklearn.metrics import classification_report, confusion_matrix\n",
        "\n",
        "from tensorflow import keras\n",
        "from keras.layers import Dense, Dropout\n",
        "from keras.models import Sequential\n",
        "from keras.callbacks import EarlyStopping"
      ],
      "id": "1808646b-ba67-4c53-87ce-1e07bfe651b6"
    },
    {
      "cell_type": "markdown",
      "metadata": {
        "id": "cf084668-7c2f-45e7-8204-92a3ec036643"
      },
      "source": [
        "## 1. Loading Data"
      ],
      "id": "cf084668-7c2f-45e7-8204-92a3ec036643"
    },
    {
      "cell_type": "code",
      "execution_count": null,
      "metadata": {
        "id": "vLP5otrdfO4k",
        "colab": {
          "base_uri": "https://localhost:8080/"
        },
        "outputId": "fb34e94a-72ca-4585-8512-34a596cfbf4a"
      },
      "outputs": [
        {
          "output_type": "stream",
          "name": "stdout",
          "text": [
            "Mounted at /content/drive\n"
          ]
        }
      ],
      "source": [
        "from google.colab import drive\n",
        "drive.mount('/content/drive')"
      ],
      "id": "vLP5otrdfO4k"
    },
    {
      "cell_type": "code",
      "execution_count": null,
      "metadata": {
        "id": "446055e1-f3f7-41ec-9114-a56080c6e2dd",
        "colab": {
          "base_uri": "https://localhost:8080/",
          "height": 1000
        },
        "outputId": "fa9ddc07-a77c-4e0c-8659-adb95d2f3349"
      },
      "outputs": [
        {
          "output_type": "execute_result",
          "data": {
            "text/plain": [
              "                                                                   0  \\\n",
              "loan_amnt                                                    10000.0   \n",
              "term                                                       36 months   \n",
              "int_rate                                                       11.44   \n",
              "installment                                                   329.48   \n",
              "grade                                                              B   \n",
              "sub_grade                                                         B4   \n",
              "emp_title                                                  Marketing   \n",
              "emp_length                                                 10+ years   \n",
              "home_ownership                                                  RENT   \n",
              "annual_inc                                                  117000.0   \n",
              "verification_status                                     Not Verified   \n",
              "issue_d                                                     Jan-2015   \n",
              "loan_status                                               Fully Paid   \n",
              "purpose                                                     vacation   \n",
              "title                                                       Vacation   \n",
              "dti                                                            26.24   \n",
              "earliest_cr_line                                            Jun-1990   \n",
              "open_acc                                                        16.0   \n",
              "pub_rec                                                          0.0   \n",
              "revol_bal                                                    36369.0   \n",
              "revol_util                                                      41.8   \n",
              "total_acc                                                       25.0   \n",
              "initial_list_status                                                w   \n",
              "application_type                                          INDIVIDUAL   \n",
              "mort_acc                                                         0.0   \n",
              "pub_rec_bankruptcies                                             0.0   \n",
              "address               0174 Michelle Gateway\\r\\nMendozaberg, OK 22690   \n",
              "\n",
              "                                                                      1  \\\n",
              "loan_amnt                                                        8000.0   \n",
              "term                                                          36 months   \n",
              "int_rate                                                          11.99   \n",
              "installment                                                      265.68   \n",
              "grade                                                                 B   \n",
              "sub_grade                                                            B5   \n",
              "emp_title                                               Credit analyst    \n",
              "emp_length                                                      4 years   \n",
              "home_ownership                                                 MORTGAGE   \n",
              "annual_inc                                                      65000.0   \n",
              "verification_status                                        Not Verified   \n",
              "issue_d                                                        Jan-2015   \n",
              "loan_status                                                  Fully Paid   \n",
              "purpose                                              debt_consolidation   \n",
              "title                                                Debt consolidation   \n",
              "dti                                                               22.05   \n",
              "earliest_cr_line                                               Jul-2004   \n",
              "open_acc                                                           17.0   \n",
              "pub_rec                                                             0.0   \n",
              "revol_bal                                                       20131.0   \n",
              "revol_util                                                         53.3   \n",
              "total_acc                                                          27.0   \n",
              "initial_list_status                                                   f   \n",
              "application_type                                             INDIVIDUAL   \n",
              "mort_acc                                                            3.0   \n",
              "pub_rec_bankruptcies                                                0.0   \n",
              "address               1076 Carney Fort Apt. 347\\r\\nLoganmouth, SD 05113   \n",
              "\n",
              "                                                                      2  \\\n",
              "loan_amnt                                                       15600.0   \n",
              "term                                                          36 months   \n",
              "int_rate                                                          10.49   \n",
              "installment                                                      506.97   \n",
              "grade                                                                 B   \n",
              "sub_grade                                                            B3   \n",
              "emp_title                                                  Statistician   \n",
              "emp_length                                                     < 1 year   \n",
              "home_ownership                                                     RENT   \n",
              "annual_inc                                                      43057.0   \n",
              "verification_status                                     Source Verified   \n",
              "issue_d                                                        Jan-2015   \n",
              "loan_status                                                  Fully Paid   \n",
              "purpose                                                     credit_card   \n",
              "title                                           Credit card refinancing   \n",
              "dti                                                               12.79   \n",
              "earliest_cr_line                                               Aug-2007   \n",
              "open_acc                                                           13.0   \n",
              "pub_rec                                                             0.0   \n",
              "revol_bal                                                       11987.0   \n",
              "revol_util                                                         92.2   \n",
              "total_acc                                                          26.0   \n",
              "initial_list_status                                                   f   \n",
              "application_type                                             INDIVIDUAL   \n",
              "mort_acc                                                            0.0   \n",
              "pub_rec_bankruptcies                                                0.0   \n",
              "address               87025 Mark Dale Apt. 269\\r\\nNew Sabrina, WV 05113   \n",
              "\n",
              "                                                            3  \\\n",
              "loan_amnt                                              7200.0   \n",
              "term                                                36 months   \n",
              "int_rate                                                 6.49   \n",
              "installment                                            220.65   \n",
              "grade                                                       A   \n",
              "sub_grade                                                  A2   \n",
              "emp_title                                     Client Advocate   \n",
              "emp_length                                            6 years   \n",
              "home_ownership                                           RENT   \n",
              "annual_inc                                            54000.0   \n",
              "verification_status                              Not Verified   \n",
              "issue_d                                              Nov-2014   \n",
              "loan_status                                        Fully Paid   \n",
              "purpose                                           credit_card   \n",
              "title                                 Credit card refinancing   \n",
              "dti                                                       2.6   \n",
              "earliest_cr_line                                     Sep-2006   \n",
              "open_acc                                                  6.0   \n",
              "pub_rec                                                   0.0   \n",
              "revol_bal                                              5472.0   \n",
              "revol_util                                               21.5   \n",
              "total_acc                                                13.0   \n",
              "initial_list_status                                         f   \n",
              "application_type                                   INDIVIDUAL   \n",
              "mort_acc                                                  0.0   \n",
              "pub_rec_bankruptcies                                      0.0   \n",
              "address               823 Reid Ford\\r\\nDelacruzside, MA 00813   \n",
              "\n",
              "                                                           4  \\\n",
              "loan_amnt                                            24375.0   \n",
              "term                                               60 months   \n",
              "int_rate                                               17.27   \n",
              "installment                                           609.33   \n",
              "grade                                                      C   \n",
              "sub_grade                                                 C5   \n",
              "emp_title                            Destiny Management Inc.   \n",
              "emp_length                                           9 years   \n",
              "home_ownership                                      MORTGAGE   \n",
              "annual_inc                                           55000.0   \n",
              "verification_status                                 Verified   \n",
              "issue_d                                             Apr-2013   \n",
              "loan_status                                      Charged Off   \n",
              "purpose                                          credit_card   \n",
              "title                                  Credit Card Refinance   \n",
              "dti                                                    33.95   \n",
              "earliest_cr_line                                    Mar-1999   \n",
              "open_acc                                                13.0   \n",
              "pub_rec                                                  0.0   \n",
              "revol_bal                                            24584.0   \n",
              "revol_util                                              69.8   \n",
              "total_acc                                               43.0   \n",
              "initial_list_status                                        f   \n",
              "application_type                                  INDIVIDUAL   \n",
              "mort_acc                                                 1.0   \n",
              "pub_rec_bankruptcies                                     0.0   \n",
              "address               679 Luna Roads\\r\\nGreggshire, VA 11650   \n",
              "\n",
              "                                                                      5  \\\n",
              "loan_amnt                                                       20000.0   \n",
              "term                                                          36 months   \n",
              "int_rate                                                          13.33   \n",
              "installment                                                      677.07   \n",
              "grade                                                                 C   \n",
              "sub_grade                                                            C3   \n",
              "emp_title                                                 HR Specialist   \n",
              "emp_length                                                    10+ years   \n",
              "home_ownership                                                 MORTGAGE   \n",
              "annual_inc                                                      86788.0   \n",
              "verification_status                                            Verified   \n",
              "issue_d                                                        Sep-2015   \n",
              "loan_status                                                  Fully Paid   \n",
              "purpose                                              debt_consolidation   \n",
              "title                                                Debt consolidation   \n",
              "dti                                                               16.31   \n",
              "earliest_cr_line                                               Jan-2005   \n",
              "open_acc                                                            8.0   \n",
              "pub_rec                                                             0.0   \n",
              "revol_bal                                                       25757.0   \n",
              "revol_util                                                        100.6   \n",
              "total_acc                                                          23.0   \n",
              "initial_list_status                                                   f   \n",
              "application_type                                             INDIVIDUAL   \n",
              "mort_acc                                                            4.0   \n",
              "pub_rec_bankruptcies                                                0.0   \n",
              "address               1726 Cooper Passage Suite 129\\r\\nNorth Deniseb...   \n",
              "\n",
              "                                                                      6  \\\n",
              "loan_amnt                                                       18000.0   \n",
              "term                                                          36 months   \n",
              "int_rate                                                           5.32   \n",
              "installment                                                      542.07   \n",
              "grade                                                                 A   \n",
              "sub_grade                                                            A1   \n",
              "emp_title                                 Software Development Engineer   \n",
              "emp_length                                                      2 years   \n",
              "home_ownership                                                 MORTGAGE   \n",
              "annual_inc                                                     125000.0   \n",
              "verification_status                                     Source Verified   \n",
              "issue_d                                                        Sep-2015   \n",
              "loan_status                                                  Fully Paid   \n",
              "purpose                                                home_improvement   \n",
              "title                                                  Home improvement   \n",
              "dti                                                                1.36   \n",
              "earliest_cr_line                                               Aug-2005   \n",
              "open_acc                                                            8.0   \n",
              "pub_rec                                                             0.0   \n",
              "revol_bal                                                        4178.0   \n",
              "revol_util                                                          4.9   \n",
              "total_acc                                                          25.0   \n",
              "initial_list_status                                                   f   \n",
              "application_type                                             INDIVIDUAL   \n",
              "mort_acc                                                            3.0   \n",
              "pub_rec_bankruptcies                                                0.0   \n",
              "address               1008 Erika Vista Suite 748\\r\\nEast Stephanie, ...   \n",
              "\n",
              "                                                7  \n",
              "loan_amnt                                 13000.0  \n",
              "term                                    36 months  \n",
              "int_rate                                    11.14  \n",
              "installment                                426.47  \n",
              "grade                                           B  \n",
              "sub_grade                                      B2  \n",
              "emp_title                            Office Depot  \n",
              "emp_length                              10+ years  \n",
              "home_ownership                               RENT  \n",
              "annual_inc                                46000.0  \n",
              "verification_status                  Not Verified  \n",
              "issue_d                                  Sep-2012  \n",
              "loan_status                            Fully Paid  \n",
              "purpose                               credit_card  \n",
              "title                        No More Credit Cards  \n",
              "dti                                         26.87  \n",
              "earliest_cr_line                         Sep-1994  \n",
              "open_acc                                     11.0  \n",
              "pub_rec                                       0.0  \n",
              "revol_bal                                 13425.0  \n",
              "revol_util                                   64.5  \n",
              "total_acc                                    15.0  \n",
              "initial_list_status                             f  \n",
              "application_type                       INDIVIDUAL  \n",
              "mort_acc                                      0.0  \n",
              "pub_rec_bankruptcies                          0.0  \n",
              "address               USCGC Nunez\\r\\nFPO AE 30723  "
            ],
            "text/html": [
              "\n",
              "  <div id=\"df-b325d837-5f81-46f7-965e-d31d98159da2\">\n",
              "    <div class=\"colab-df-container\">\n",
              "      <div>\n",
              "<style scoped>\n",
              "    .dataframe tbody tr th:only-of-type {\n",
              "        vertical-align: middle;\n",
              "    }\n",
              "\n",
              "    .dataframe tbody tr th {\n",
              "        vertical-align: top;\n",
              "    }\n",
              "\n",
              "    .dataframe thead th {\n",
              "        text-align: right;\n",
              "    }\n",
              "</style>\n",
              "<table border=\"1\" class=\"dataframe\">\n",
              "  <thead>\n",
              "    <tr style=\"text-align: right;\">\n",
              "      <th></th>\n",
              "      <th>0</th>\n",
              "      <th>1</th>\n",
              "      <th>2</th>\n",
              "      <th>3</th>\n",
              "      <th>4</th>\n",
              "      <th>5</th>\n",
              "      <th>6</th>\n",
              "      <th>7</th>\n",
              "    </tr>\n",
              "  </thead>\n",
              "  <tbody>\n",
              "    <tr>\n",
              "      <th>loan_amnt</th>\n",
              "      <td>10000.0</td>\n",
              "      <td>8000.0</td>\n",
              "      <td>15600.0</td>\n",
              "      <td>7200.0</td>\n",
              "      <td>24375.0</td>\n",
              "      <td>20000.0</td>\n",
              "      <td>18000.0</td>\n",
              "      <td>13000.0</td>\n",
              "    </tr>\n",
              "    <tr>\n",
              "      <th>term</th>\n",
              "      <td>36 months</td>\n",
              "      <td>36 months</td>\n",
              "      <td>36 months</td>\n",
              "      <td>36 months</td>\n",
              "      <td>60 months</td>\n",
              "      <td>36 months</td>\n",
              "      <td>36 months</td>\n",
              "      <td>36 months</td>\n",
              "    </tr>\n",
              "    <tr>\n",
              "      <th>int_rate</th>\n",
              "      <td>11.44</td>\n",
              "      <td>11.99</td>\n",
              "      <td>10.49</td>\n",
              "      <td>6.49</td>\n",
              "      <td>17.27</td>\n",
              "      <td>13.33</td>\n",
              "      <td>5.32</td>\n",
              "      <td>11.14</td>\n",
              "    </tr>\n",
              "    <tr>\n",
              "      <th>installment</th>\n",
              "      <td>329.48</td>\n",
              "      <td>265.68</td>\n",
              "      <td>506.97</td>\n",
              "      <td>220.65</td>\n",
              "      <td>609.33</td>\n",
              "      <td>677.07</td>\n",
              "      <td>542.07</td>\n",
              "      <td>426.47</td>\n",
              "    </tr>\n",
              "    <tr>\n",
              "      <th>grade</th>\n",
              "      <td>B</td>\n",
              "      <td>B</td>\n",
              "      <td>B</td>\n",
              "      <td>A</td>\n",
              "      <td>C</td>\n",
              "      <td>C</td>\n",
              "      <td>A</td>\n",
              "      <td>B</td>\n",
              "    </tr>\n",
              "    <tr>\n",
              "      <th>sub_grade</th>\n",
              "      <td>B4</td>\n",
              "      <td>B5</td>\n",
              "      <td>B3</td>\n",
              "      <td>A2</td>\n",
              "      <td>C5</td>\n",
              "      <td>C3</td>\n",
              "      <td>A1</td>\n",
              "      <td>B2</td>\n",
              "    </tr>\n",
              "    <tr>\n",
              "      <th>emp_title</th>\n",
              "      <td>Marketing</td>\n",
              "      <td>Credit analyst</td>\n",
              "      <td>Statistician</td>\n",
              "      <td>Client Advocate</td>\n",
              "      <td>Destiny Management Inc.</td>\n",
              "      <td>HR Specialist</td>\n",
              "      <td>Software Development Engineer</td>\n",
              "      <td>Office Depot</td>\n",
              "    </tr>\n",
              "    <tr>\n",
              "      <th>emp_length</th>\n",
              "      <td>10+ years</td>\n",
              "      <td>4 years</td>\n",
              "      <td>&lt; 1 year</td>\n",
              "      <td>6 years</td>\n",
              "      <td>9 years</td>\n",
              "      <td>10+ years</td>\n",
              "      <td>2 years</td>\n",
              "      <td>10+ years</td>\n",
              "    </tr>\n",
              "    <tr>\n",
              "      <th>home_ownership</th>\n",
              "      <td>RENT</td>\n",
              "      <td>MORTGAGE</td>\n",
              "      <td>RENT</td>\n",
              "      <td>RENT</td>\n",
              "      <td>MORTGAGE</td>\n",
              "      <td>MORTGAGE</td>\n",
              "      <td>MORTGAGE</td>\n",
              "      <td>RENT</td>\n",
              "    </tr>\n",
              "    <tr>\n",
              "      <th>annual_inc</th>\n",
              "      <td>117000.0</td>\n",
              "      <td>65000.0</td>\n",
              "      <td>43057.0</td>\n",
              "      <td>54000.0</td>\n",
              "      <td>55000.0</td>\n",
              "      <td>86788.0</td>\n",
              "      <td>125000.0</td>\n",
              "      <td>46000.0</td>\n",
              "    </tr>\n",
              "    <tr>\n",
              "      <th>verification_status</th>\n",
              "      <td>Not Verified</td>\n",
              "      <td>Not Verified</td>\n",
              "      <td>Source Verified</td>\n",
              "      <td>Not Verified</td>\n",
              "      <td>Verified</td>\n",
              "      <td>Verified</td>\n",
              "      <td>Source Verified</td>\n",
              "      <td>Not Verified</td>\n",
              "    </tr>\n",
              "    <tr>\n",
              "      <th>issue_d</th>\n",
              "      <td>Jan-2015</td>\n",
              "      <td>Jan-2015</td>\n",
              "      <td>Jan-2015</td>\n",
              "      <td>Nov-2014</td>\n",
              "      <td>Apr-2013</td>\n",
              "      <td>Sep-2015</td>\n",
              "      <td>Sep-2015</td>\n",
              "      <td>Sep-2012</td>\n",
              "    </tr>\n",
              "    <tr>\n",
              "      <th>loan_status</th>\n",
              "      <td>Fully Paid</td>\n",
              "      <td>Fully Paid</td>\n",
              "      <td>Fully Paid</td>\n",
              "      <td>Fully Paid</td>\n",
              "      <td>Charged Off</td>\n",
              "      <td>Fully Paid</td>\n",
              "      <td>Fully Paid</td>\n",
              "      <td>Fully Paid</td>\n",
              "    </tr>\n",
              "    <tr>\n",
              "      <th>purpose</th>\n",
              "      <td>vacation</td>\n",
              "      <td>debt_consolidation</td>\n",
              "      <td>credit_card</td>\n",
              "      <td>credit_card</td>\n",
              "      <td>credit_card</td>\n",
              "      <td>debt_consolidation</td>\n",
              "      <td>home_improvement</td>\n",
              "      <td>credit_card</td>\n",
              "    </tr>\n",
              "    <tr>\n",
              "      <th>title</th>\n",
              "      <td>Vacation</td>\n",
              "      <td>Debt consolidation</td>\n",
              "      <td>Credit card refinancing</td>\n",
              "      <td>Credit card refinancing</td>\n",
              "      <td>Credit Card Refinance</td>\n",
              "      <td>Debt consolidation</td>\n",
              "      <td>Home improvement</td>\n",
              "      <td>No More Credit Cards</td>\n",
              "    </tr>\n",
              "    <tr>\n",
              "      <th>dti</th>\n",
              "      <td>26.24</td>\n",
              "      <td>22.05</td>\n",
              "      <td>12.79</td>\n",
              "      <td>2.6</td>\n",
              "      <td>33.95</td>\n",
              "      <td>16.31</td>\n",
              "      <td>1.36</td>\n",
              "      <td>26.87</td>\n",
              "    </tr>\n",
              "    <tr>\n",
              "      <th>earliest_cr_line</th>\n",
              "      <td>Jun-1990</td>\n",
              "      <td>Jul-2004</td>\n",
              "      <td>Aug-2007</td>\n",
              "      <td>Sep-2006</td>\n",
              "      <td>Mar-1999</td>\n",
              "      <td>Jan-2005</td>\n",
              "      <td>Aug-2005</td>\n",
              "      <td>Sep-1994</td>\n",
              "    </tr>\n",
              "    <tr>\n",
              "      <th>open_acc</th>\n",
              "      <td>16.0</td>\n",
              "      <td>17.0</td>\n",
              "      <td>13.0</td>\n",
              "      <td>6.0</td>\n",
              "      <td>13.0</td>\n",
              "      <td>8.0</td>\n",
              "      <td>8.0</td>\n",
              "      <td>11.0</td>\n",
              "    </tr>\n",
              "    <tr>\n",
              "      <th>pub_rec</th>\n",
              "      <td>0.0</td>\n",
              "      <td>0.0</td>\n",
              "      <td>0.0</td>\n",
              "      <td>0.0</td>\n",
              "      <td>0.0</td>\n",
              "      <td>0.0</td>\n",
              "      <td>0.0</td>\n",
              "      <td>0.0</td>\n",
              "    </tr>\n",
              "    <tr>\n",
              "      <th>revol_bal</th>\n",
              "      <td>36369.0</td>\n",
              "      <td>20131.0</td>\n",
              "      <td>11987.0</td>\n",
              "      <td>5472.0</td>\n",
              "      <td>24584.0</td>\n",
              "      <td>25757.0</td>\n",
              "      <td>4178.0</td>\n",
              "      <td>13425.0</td>\n",
              "    </tr>\n",
              "    <tr>\n",
              "      <th>revol_util</th>\n",
              "      <td>41.8</td>\n",
              "      <td>53.3</td>\n",
              "      <td>92.2</td>\n",
              "      <td>21.5</td>\n",
              "      <td>69.8</td>\n",
              "      <td>100.6</td>\n",
              "      <td>4.9</td>\n",
              "      <td>64.5</td>\n",
              "    </tr>\n",
              "    <tr>\n",
              "      <th>total_acc</th>\n",
              "      <td>25.0</td>\n",
              "      <td>27.0</td>\n",
              "      <td>26.0</td>\n",
              "      <td>13.0</td>\n",
              "      <td>43.0</td>\n",
              "      <td>23.0</td>\n",
              "      <td>25.0</td>\n",
              "      <td>15.0</td>\n",
              "    </tr>\n",
              "    <tr>\n",
              "      <th>initial_list_status</th>\n",
              "      <td>w</td>\n",
              "      <td>f</td>\n",
              "      <td>f</td>\n",
              "      <td>f</td>\n",
              "      <td>f</td>\n",
              "      <td>f</td>\n",
              "      <td>f</td>\n",
              "      <td>f</td>\n",
              "    </tr>\n",
              "    <tr>\n",
              "      <th>application_type</th>\n",
              "      <td>INDIVIDUAL</td>\n",
              "      <td>INDIVIDUAL</td>\n",
              "      <td>INDIVIDUAL</td>\n",
              "      <td>INDIVIDUAL</td>\n",
              "      <td>INDIVIDUAL</td>\n",
              "      <td>INDIVIDUAL</td>\n",
              "      <td>INDIVIDUAL</td>\n",
              "      <td>INDIVIDUAL</td>\n",
              "    </tr>\n",
              "    <tr>\n",
              "      <th>mort_acc</th>\n",
              "      <td>0.0</td>\n",
              "      <td>3.0</td>\n",
              "      <td>0.0</td>\n",
              "      <td>0.0</td>\n",
              "      <td>1.0</td>\n",
              "      <td>4.0</td>\n",
              "      <td>3.0</td>\n",
              "      <td>0.0</td>\n",
              "    </tr>\n",
              "    <tr>\n",
              "      <th>pub_rec_bankruptcies</th>\n",
              "      <td>0.0</td>\n",
              "      <td>0.0</td>\n",
              "      <td>0.0</td>\n",
              "      <td>0.0</td>\n",
              "      <td>0.0</td>\n",
              "      <td>0.0</td>\n",
              "      <td>0.0</td>\n",
              "      <td>0.0</td>\n",
              "    </tr>\n",
              "    <tr>\n",
              "      <th>address</th>\n",
              "      <td>0174 Michelle Gateway\\r\\nMendozaberg, OK 22690</td>\n",
              "      <td>1076 Carney Fort Apt. 347\\r\\nLoganmouth, SD 05113</td>\n",
              "      <td>87025 Mark Dale Apt. 269\\r\\nNew Sabrina, WV 05113</td>\n",
              "      <td>823 Reid Ford\\r\\nDelacruzside, MA 00813</td>\n",
              "      <td>679 Luna Roads\\r\\nGreggshire, VA 11650</td>\n",
              "      <td>1726 Cooper Passage Suite 129\\r\\nNorth Deniseb...</td>\n",
              "      <td>1008 Erika Vista Suite 748\\r\\nEast Stephanie, ...</td>\n",
              "      <td>USCGC Nunez\\r\\nFPO AE 30723</td>\n",
              "    </tr>\n",
              "  </tbody>\n",
              "</table>\n",
              "</div>\n",
              "      <button class=\"colab-df-convert\" onclick=\"convertToInteractive('df-b325d837-5f81-46f7-965e-d31d98159da2')\"\n",
              "              title=\"Convert this dataframe to an interactive table.\"\n",
              "              style=\"display:none;\">\n",
              "        \n",
              "  <svg xmlns=\"http://www.w3.org/2000/svg\" height=\"24px\"viewBox=\"0 0 24 24\"\n",
              "       width=\"24px\">\n",
              "    <path d=\"M0 0h24v24H0V0z\" fill=\"none\"/>\n",
              "    <path d=\"M18.56 5.44l.94 2.06.94-2.06 2.06-.94-2.06-.94-.94-2.06-.94 2.06-2.06.94zm-11 1L8.5 8.5l.94-2.06 2.06-.94-2.06-.94L8.5 2.5l-.94 2.06-2.06.94zm10 10l.94 2.06.94-2.06 2.06-.94-2.06-.94-.94-2.06-.94 2.06-2.06.94z\"/><path d=\"M17.41 7.96l-1.37-1.37c-.4-.4-.92-.59-1.43-.59-.52 0-1.04.2-1.43.59L10.3 9.45l-7.72 7.72c-.78.78-.78 2.05 0 2.83L4 21.41c.39.39.9.59 1.41.59.51 0 1.02-.2 1.41-.59l7.78-7.78 2.81-2.81c.8-.78.8-2.07 0-2.86zM5.41 20L4 18.59l7.72-7.72 1.47 1.35L5.41 20z\"/>\n",
              "  </svg>\n",
              "      </button>\n",
              "      \n",
              "  <style>\n",
              "    .colab-df-container {\n",
              "      display:flex;\n",
              "      flex-wrap:wrap;\n",
              "      gap: 12px;\n",
              "    }\n",
              "\n",
              "    .colab-df-convert {\n",
              "      background-color: #E8F0FE;\n",
              "      border: none;\n",
              "      border-radius: 50%;\n",
              "      cursor: pointer;\n",
              "      display: none;\n",
              "      fill: #1967D2;\n",
              "      height: 32px;\n",
              "      padding: 0 0 0 0;\n",
              "      width: 32px;\n",
              "    }\n",
              "\n",
              "    .colab-df-convert:hover {\n",
              "      background-color: #E2EBFA;\n",
              "      box-shadow: 0px 1px 2px rgba(60, 64, 67, 0.3), 0px 1px 3px 1px rgba(60, 64, 67, 0.15);\n",
              "      fill: #174EA6;\n",
              "    }\n",
              "\n",
              "    [theme=dark] .colab-df-convert {\n",
              "      background-color: #3B4455;\n",
              "      fill: #D2E3FC;\n",
              "    }\n",
              "\n",
              "    [theme=dark] .colab-df-convert:hover {\n",
              "      background-color: #434B5C;\n",
              "      box-shadow: 0px 1px 3px 1px rgba(0, 0, 0, 0.15);\n",
              "      filter: drop-shadow(0px 1px 2px rgba(0, 0, 0, 0.3));\n",
              "      fill: #FFFFFF;\n",
              "    }\n",
              "  </style>\n",
              "\n",
              "      <script>\n",
              "        const buttonEl =\n",
              "          document.querySelector('#df-b325d837-5f81-46f7-965e-d31d98159da2 button.colab-df-convert');\n",
              "        buttonEl.style.display =\n",
              "          google.colab.kernel.accessAllowed ? 'block' : 'none';\n",
              "\n",
              "        async function convertToInteractive(key) {\n",
              "          const element = document.querySelector('#df-b325d837-5f81-46f7-965e-d31d98159da2');\n",
              "          const dataTable =\n",
              "            await google.colab.kernel.invokeFunction('convertToInteractive',\n",
              "                                                     [key], {});\n",
              "          if (!dataTable) return;\n",
              "\n",
              "          const docLinkHtml = 'Like what you see? Visit the ' +\n",
              "            '<a target=\"_blank\" href=https://colab.research.google.com/notebooks/data_table.ipynb>data table notebook</a>'\n",
              "            + ' to learn more about interactive tables.';\n",
              "          element.innerHTML = '';\n",
              "          dataTable['output_type'] = 'display_data';\n",
              "          await google.colab.output.renderOutput(dataTable, element);\n",
              "          const docLink = document.createElement('div');\n",
              "          docLink.innerHTML = docLinkHtml;\n",
              "          element.appendChild(docLink);\n",
              "        }\n",
              "      </script>\n",
              "    </div>\n",
              "  </div>\n",
              "  "
            ]
          },
          "metadata": {},
          "execution_count": 3
        }
      ],
      "source": [
        "df = pd.read_csv('/content/drive/MyDrive/Colab Datasets/lending_club_loan_two.csv')\n",
        "df.head(8).transpose()"
      ],
      "id": "446055e1-f3f7-41ec-9114-a56080c6e2dd"
    },
    {
      "cell_type": "code",
      "source": [
        "# It seems purpose and title features are duplicate."
      ],
      "metadata": {
        "id": "jui1tVMfm4wV"
      },
      "id": "jui1tVMfm4wV",
      "execution_count": null,
      "outputs": []
    },
    {
      "cell_type": "markdown",
      "metadata": {
        "id": "7c62a9b9-aa5c-4de6-89dc-374e751eebb4"
      },
      "source": [
        "## 2. Data Overview"
      ],
      "id": "7c62a9b9-aa5c-4de6-89dc-374e751eebb4"
    },
    {
      "cell_type": "code",
      "execution_count": null,
      "metadata": {
        "id": "21d6b3bb-8406-4cf4-b8ae-3ae0f6b698db",
        "colab": {
          "base_uri": "https://localhost:8080/"
        },
        "outputId": "ae30c749-6dcb-4846-a5c5-0d5d8baa89c5"
      },
      "outputs": [
        {
          "output_type": "execute_result",
          "data": {
            "text/plain": [
              "(396030, 27)"
            ]
          },
          "metadata": {},
          "execution_count": 5
        }
      ],
      "source": [
        "df.shape"
      ],
      "id": "21d6b3bb-8406-4cf4-b8ae-3ae0f6b698db"
    },
    {
      "cell_type": "code",
      "execution_count": null,
      "metadata": {
        "id": "5724d235-3ff7-44ce-9c46-f46380f7204f",
        "colab": {
          "base_uri": "https://localhost:8080/"
        },
        "outputId": "2098aebd-290a-4d07-8d81-0459813ed9db"
      },
      "outputs": [
        {
          "output_type": "stream",
          "name": "stdout",
          "text": [
            "<class 'pandas.core.frame.DataFrame'>\n",
            "RangeIndex: 396030 entries, 0 to 396029\n",
            "Data columns (total 27 columns):\n",
            " #   Column                Non-Null Count   Dtype  \n",
            "---  ------                --------------   -----  \n",
            " 0   loan_amnt             396030 non-null  float64\n",
            " 1   term                  396030 non-null  object \n",
            " 2   int_rate              396030 non-null  float64\n",
            " 3   installment           396030 non-null  float64\n",
            " 4   grade                 396030 non-null  object \n",
            " 5   sub_grade             396030 non-null  object \n",
            " 6   emp_title             373103 non-null  object \n",
            " 7   emp_length            377729 non-null  object \n",
            " 8   home_ownership        396030 non-null  object \n",
            " 9   annual_inc            396030 non-null  float64\n",
            " 10  verification_status   396030 non-null  object \n",
            " 11  issue_d               396030 non-null  object \n",
            " 12  loan_status           396030 non-null  object \n",
            " 13  purpose               396030 non-null  object \n",
            " 14  title                 394275 non-null  object \n",
            " 15  dti                   396030 non-null  float64\n",
            " 16  earliest_cr_line      396030 non-null  object \n",
            " 17  open_acc              396030 non-null  float64\n",
            " 18  pub_rec               396030 non-null  float64\n",
            " 19  revol_bal             396030 non-null  float64\n",
            " 20  revol_util            395754 non-null  float64\n",
            " 21  total_acc             396030 non-null  float64\n",
            " 22  initial_list_status   396030 non-null  object \n",
            " 23  application_type      396030 non-null  object \n",
            " 24  mort_acc              358235 non-null  float64\n",
            " 25  pub_rec_bankruptcies  395495 non-null  float64\n",
            " 26  address               396030 non-null  object \n",
            "dtypes: float64(12), object(15)\n",
            "memory usage: 81.6+ MB\n"
          ]
        }
      ],
      "source": [
        "df.info()"
      ],
      "id": "5724d235-3ff7-44ce-9c46-f46380f7204f"
    },
    {
      "cell_type": "code",
      "execution_count": null,
      "metadata": {
        "id": "d52f2cd1-a85f-44c7-b267-4905e3804ff9",
        "colab": {
          "base_uri": "https://localhost:8080/",
          "height": 490
        },
        "outputId": "fcd37866-6022-4ca2-da23-cf23eaf162a1"
      },
      "outputs": [
        {
          "output_type": "execute_result",
          "data": {
            "text/plain": [
              "                         count          mean           std     min       25%  \\\n",
              "loan_amnt             396030.0  14113.888089   8357.441341  500.00   8000.00   \n",
              "int_rate              396030.0     13.639400      4.472157    5.32     10.49   \n",
              "installment           396030.0    431.849698    250.727790   16.08    250.33   \n",
              "annual_inc            396030.0  74203.175798  61637.621158    0.00  45000.00   \n",
              "dti                   396030.0     17.379514     18.019092    0.00     11.28   \n",
              "open_acc              396030.0     11.311153      5.137649    0.00      8.00   \n",
              "pub_rec               396030.0      0.178191      0.530671    0.00      0.00   \n",
              "revol_bal             396030.0  15844.539853  20591.836109    0.00   6025.00   \n",
              "revol_util            395754.0     53.791749     24.452193    0.00     35.80   \n",
              "total_acc             396030.0     25.414744     11.886991    2.00     17.00   \n",
              "mort_acc              358235.0      1.813991      2.147930    0.00      0.00   \n",
              "pub_rec_bankruptcies  395495.0      0.121648      0.356174    0.00      0.00   \n",
              "\n",
              "                           50%       75%         max  \n",
              "loan_amnt             12000.00  20000.00    40000.00  \n",
              "int_rate                 13.33     16.49       30.99  \n",
              "installment             375.43    567.30     1533.81  \n",
              "annual_inc            64000.00  90000.00  8706582.00  \n",
              "dti                      16.91     22.98     9999.00  \n",
              "open_acc                 10.00     14.00       90.00  \n",
              "pub_rec                   0.00      0.00       86.00  \n",
              "revol_bal             11181.00  19620.00  1743266.00  \n",
              "revol_util               54.80     72.90      892.30  \n",
              "total_acc                24.00     32.00      151.00  \n",
              "mort_acc                  1.00      3.00       34.00  \n",
              "pub_rec_bankruptcies      0.00      0.00        8.00  "
            ],
            "text/html": [
              "\n",
              "  <div id=\"df-d108e784-67a9-4387-b717-2665842fbaae\">\n",
              "    <div class=\"colab-df-container\">\n",
              "      <div>\n",
              "<style scoped>\n",
              "    .dataframe tbody tr th:only-of-type {\n",
              "        vertical-align: middle;\n",
              "    }\n",
              "\n",
              "    .dataframe tbody tr th {\n",
              "        vertical-align: top;\n",
              "    }\n",
              "\n",
              "    .dataframe thead th {\n",
              "        text-align: right;\n",
              "    }\n",
              "</style>\n",
              "<table border=\"1\" class=\"dataframe\">\n",
              "  <thead>\n",
              "    <tr style=\"text-align: right;\">\n",
              "      <th></th>\n",
              "      <th>count</th>\n",
              "      <th>mean</th>\n",
              "      <th>std</th>\n",
              "      <th>min</th>\n",
              "      <th>25%</th>\n",
              "      <th>50%</th>\n",
              "      <th>75%</th>\n",
              "      <th>max</th>\n",
              "    </tr>\n",
              "  </thead>\n",
              "  <tbody>\n",
              "    <tr>\n",
              "      <th>loan_amnt</th>\n",
              "      <td>396030.0</td>\n",
              "      <td>14113.888089</td>\n",
              "      <td>8357.441341</td>\n",
              "      <td>500.00</td>\n",
              "      <td>8000.00</td>\n",
              "      <td>12000.00</td>\n",
              "      <td>20000.00</td>\n",
              "      <td>40000.00</td>\n",
              "    </tr>\n",
              "    <tr>\n",
              "      <th>int_rate</th>\n",
              "      <td>396030.0</td>\n",
              "      <td>13.639400</td>\n",
              "      <td>4.472157</td>\n",
              "      <td>5.32</td>\n",
              "      <td>10.49</td>\n",
              "      <td>13.33</td>\n",
              "      <td>16.49</td>\n",
              "      <td>30.99</td>\n",
              "    </tr>\n",
              "    <tr>\n",
              "      <th>installment</th>\n",
              "      <td>396030.0</td>\n",
              "      <td>431.849698</td>\n",
              "      <td>250.727790</td>\n",
              "      <td>16.08</td>\n",
              "      <td>250.33</td>\n",
              "      <td>375.43</td>\n",
              "      <td>567.30</td>\n",
              "      <td>1533.81</td>\n",
              "    </tr>\n",
              "    <tr>\n",
              "      <th>annual_inc</th>\n",
              "      <td>396030.0</td>\n",
              "      <td>74203.175798</td>\n",
              "      <td>61637.621158</td>\n",
              "      <td>0.00</td>\n",
              "      <td>45000.00</td>\n",
              "      <td>64000.00</td>\n",
              "      <td>90000.00</td>\n",
              "      <td>8706582.00</td>\n",
              "    </tr>\n",
              "    <tr>\n",
              "      <th>dti</th>\n",
              "      <td>396030.0</td>\n",
              "      <td>17.379514</td>\n",
              "      <td>18.019092</td>\n",
              "      <td>0.00</td>\n",
              "      <td>11.28</td>\n",
              "      <td>16.91</td>\n",
              "      <td>22.98</td>\n",
              "      <td>9999.00</td>\n",
              "    </tr>\n",
              "    <tr>\n",
              "      <th>open_acc</th>\n",
              "      <td>396030.0</td>\n",
              "      <td>11.311153</td>\n",
              "      <td>5.137649</td>\n",
              "      <td>0.00</td>\n",
              "      <td>8.00</td>\n",
              "      <td>10.00</td>\n",
              "      <td>14.00</td>\n",
              "      <td>90.00</td>\n",
              "    </tr>\n",
              "    <tr>\n",
              "      <th>pub_rec</th>\n",
              "      <td>396030.0</td>\n",
              "      <td>0.178191</td>\n",
              "      <td>0.530671</td>\n",
              "      <td>0.00</td>\n",
              "      <td>0.00</td>\n",
              "      <td>0.00</td>\n",
              "      <td>0.00</td>\n",
              "      <td>86.00</td>\n",
              "    </tr>\n",
              "    <tr>\n",
              "      <th>revol_bal</th>\n",
              "      <td>396030.0</td>\n",
              "      <td>15844.539853</td>\n",
              "      <td>20591.836109</td>\n",
              "      <td>0.00</td>\n",
              "      <td>6025.00</td>\n",
              "      <td>11181.00</td>\n",
              "      <td>19620.00</td>\n",
              "      <td>1743266.00</td>\n",
              "    </tr>\n",
              "    <tr>\n",
              "      <th>revol_util</th>\n",
              "      <td>395754.0</td>\n",
              "      <td>53.791749</td>\n",
              "      <td>24.452193</td>\n",
              "      <td>0.00</td>\n",
              "      <td>35.80</td>\n",
              "      <td>54.80</td>\n",
              "      <td>72.90</td>\n",
              "      <td>892.30</td>\n",
              "    </tr>\n",
              "    <tr>\n",
              "      <th>total_acc</th>\n",
              "      <td>396030.0</td>\n",
              "      <td>25.414744</td>\n",
              "      <td>11.886991</td>\n",
              "      <td>2.00</td>\n",
              "      <td>17.00</td>\n",
              "      <td>24.00</td>\n",
              "      <td>32.00</td>\n",
              "      <td>151.00</td>\n",
              "    </tr>\n",
              "    <tr>\n",
              "      <th>mort_acc</th>\n",
              "      <td>358235.0</td>\n",
              "      <td>1.813991</td>\n",
              "      <td>2.147930</td>\n",
              "      <td>0.00</td>\n",
              "      <td>0.00</td>\n",
              "      <td>1.00</td>\n",
              "      <td>3.00</td>\n",
              "      <td>34.00</td>\n",
              "    </tr>\n",
              "    <tr>\n",
              "      <th>pub_rec_bankruptcies</th>\n",
              "      <td>395495.0</td>\n",
              "      <td>0.121648</td>\n",
              "      <td>0.356174</td>\n",
              "      <td>0.00</td>\n",
              "      <td>0.00</td>\n",
              "      <td>0.00</td>\n",
              "      <td>0.00</td>\n",
              "      <td>8.00</td>\n",
              "    </tr>\n",
              "  </tbody>\n",
              "</table>\n",
              "</div>\n",
              "      <button class=\"colab-df-convert\" onclick=\"convertToInteractive('df-d108e784-67a9-4387-b717-2665842fbaae')\"\n",
              "              title=\"Convert this dataframe to an interactive table.\"\n",
              "              style=\"display:none;\">\n",
              "        \n",
              "  <svg xmlns=\"http://www.w3.org/2000/svg\" height=\"24px\"viewBox=\"0 0 24 24\"\n",
              "       width=\"24px\">\n",
              "    <path d=\"M0 0h24v24H0V0z\" fill=\"none\"/>\n",
              "    <path d=\"M18.56 5.44l.94 2.06.94-2.06 2.06-.94-2.06-.94-.94-2.06-.94 2.06-2.06.94zm-11 1L8.5 8.5l.94-2.06 2.06-.94-2.06-.94L8.5 2.5l-.94 2.06-2.06.94zm10 10l.94 2.06.94-2.06 2.06-.94-2.06-.94-.94-2.06-.94 2.06-2.06.94z\"/><path d=\"M17.41 7.96l-1.37-1.37c-.4-.4-.92-.59-1.43-.59-.52 0-1.04.2-1.43.59L10.3 9.45l-7.72 7.72c-.78.78-.78 2.05 0 2.83L4 21.41c.39.39.9.59 1.41.59.51 0 1.02-.2 1.41-.59l7.78-7.78 2.81-2.81c.8-.78.8-2.07 0-2.86zM5.41 20L4 18.59l7.72-7.72 1.47 1.35L5.41 20z\"/>\n",
              "  </svg>\n",
              "      </button>\n",
              "      \n",
              "  <style>\n",
              "    .colab-df-container {\n",
              "      display:flex;\n",
              "      flex-wrap:wrap;\n",
              "      gap: 12px;\n",
              "    }\n",
              "\n",
              "    .colab-df-convert {\n",
              "      background-color: #E8F0FE;\n",
              "      border: none;\n",
              "      border-radius: 50%;\n",
              "      cursor: pointer;\n",
              "      display: none;\n",
              "      fill: #1967D2;\n",
              "      height: 32px;\n",
              "      padding: 0 0 0 0;\n",
              "      width: 32px;\n",
              "    }\n",
              "\n",
              "    .colab-df-convert:hover {\n",
              "      background-color: #E2EBFA;\n",
              "      box-shadow: 0px 1px 2px rgba(60, 64, 67, 0.3), 0px 1px 3px 1px rgba(60, 64, 67, 0.15);\n",
              "      fill: #174EA6;\n",
              "    }\n",
              "\n",
              "    [theme=dark] .colab-df-convert {\n",
              "      background-color: #3B4455;\n",
              "      fill: #D2E3FC;\n",
              "    }\n",
              "\n",
              "    [theme=dark] .colab-df-convert:hover {\n",
              "      background-color: #434B5C;\n",
              "      box-shadow: 0px 1px 3px 1px rgba(0, 0, 0, 0.15);\n",
              "      filter: drop-shadow(0px 1px 2px rgba(0, 0, 0, 0.3));\n",
              "      fill: #FFFFFF;\n",
              "    }\n",
              "  </style>\n",
              "\n",
              "      <script>\n",
              "        const buttonEl =\n",
              "          document.querySelector('#df-d108e784-67a9-4387-b717-2665842fbaae button.colab-df-convert');\n",
              "        buttonEl.style.display =\n",
              "          google.colab.kernel.accessAllowed ? 'block' : 'none';\n",
              "\n",
              "        async function convertToInteractive(key) {\n",
              "          const element = document.querySelector('#df-d108e784-67a9-4387-b717-2665842fbaae');\n",
              "          const dataTable =\n",
              "            await google.colab.kernel.invokeFunction('convertToInteractive',\n",
              "                                                     [key], {});\n",
              "          if (!dataTable) return;\n",
              "\n",
              "          const docLinkHtml = 'Like what you see? Visit the ' +\n",
              "            '<a target=\"_blank\" href=https://colab.research.google.com/notebooks/data_table.ipynb>data table notebook</a>'\n",
              "            + ' to learn more about interactive tables.';\n",
              "          element.innerHTML = '';\n",
              "          dataTable['output_type'] = 'display_data';\n",
              "          await google.colab.output.renderOutput(dataTable, element);\n",
              "          const docLink = document.createElement('div');\n",
              "          docLink.innerHTML = docLinkHtml;\n",
              "          element.appendChild(docLink);\n",
              "        }\n",
              "      </script>\n",
              "    </div>\n",
              "  </div>\n",
              "  "
            ]
          },
          "metadata": {},
          "execution_count": 7
        }
      ],
      "source": [
        "df.describe().transpose()"
      ],
      "id": "d52f2cd1-a85f-44c7-b267-4905e3804ff9"
    },
    {
      "cell_type": "code",
      "execution_count": null,
      "metadata": {
        "id": "d6494aba-a5ea-47e7-af1e-0eb87ddc1d68",
        "colab": {
          "base_uri": "https://localhost:8080/",
          "height": 520
        },
        "outputId": "d5255e93-99b2-4a50-eed3-e5049fce8ab6"
      },
      "outputs": [
        {
          "output_type": "execute_result",
          "data": {
            "text/plain": [
              "                      count  unique                          top    freq\n",
              "term                 396030       2                    36 months  302005\n",
              "grade                396030       7                            B  116018\n",
              "sub_grade            396030      35                           B3   26655\n",
              "emp_title            373103  173105                      Teacher    4389\n",
              "emp_length           377729      11                    10+ years  126041\n",
              "home_ownership       396030       6                     MORTGAGE  198348\n",
              "verification_status  396030       3                     Verified  139563\n",
              "issue_d              396030     115                     Oct-2014   14846\n",
              "loan_status          396030       2                   Fully Paid  318357\n",
              "purpose              396030      14           debt_consolidation  234507\n",
              "title                394275   48817           Debt consolidation  152472\n",
              "earliest_cr_line     396030     684                     Oct-2000    3017\n",
              "initial_list_status  396030       2                            f  238066\n",
              "application_type     396030       3                   INDIVIDUAL  395319\n",
              "address              396030  393700  USCGC Smith\\r\\nFPO AE 70466       8"
            ],
            "text/html": [
              "\n",
              "  <div id=\"df-57dc8260-a91f-4658-8571-a75e8264ee31\">\n",
              "    <div class=\"colab-df-container\">\n",
              "      <div>\n",
              "<style scoped>\n",
              "    .dataframe tbody tr th:only-of-type {\n",
              "        vertical-align: middle;\n",
              "    }\n",
              "\n",
              "    .dataframe tbody tr th {\n",
              "        vertical-align: top;\n",
              "    }\n",
              "\n",
              "    .dataframe thead th {\n",
              "        text-align: right;\n",
              "    }\n",
              "</style>\n",
              "<table border=\"1\" class=\"dataframe\">\n",
              "  <thead>\n",
              "    <tr style=\"text-align: right;\">\n",
              "      <th></th>\n",
              "      <th>count</th>\n",
              "      <th>unique</th>\n",
              "      <th>top</th>\n",
              "      <th>freq</th>\n",
              "    </tr>\n",
              "  </thead>\n",
              "  <tbody>\n",
              "    <tr>\n",
              "      <th>term</th>\n",
              "      <td>396030</td>\n",
              "      <td>2</td>\n",
              "      <td>36 months</td>\n",
              "      <td>302005</td>\n",
              "    </tr>\n",
              "    <tr>\n",
              "      <th>grade</th>\n",
              "      <td>396030</td>\n",
              "      <td>7</td>\n",
              "      <td>B</td>\n",
              "      <td>116018</td>\n",
              "    </tr>\n",
              "    <tr>\n",
              "      <th>sub_grade</th>\n",
              "      <td>396030</td>\n",
              "      <td>35</td>\n",
              "      <td>B3</td>\n",
              "      <td>26655</td>\n",
              "    </tr>\n",
              "    <tr>\n",
              "      <th>emp_title</th>\n",
              "      <td>373103</td>\n",
              "      <td>173105</td>\n",
              "      <td>Teacher</td>\n",
              "      <td>4389</td>\n",
              "    </tr>\n",
              "    <tr>\n",
              "      <th>emp_length</th>\n",
              "      <td>377729</td>\n",
              "      <td>11</td>\n",
              "      <td>10+ years</td>\n",
              "      <td>126041</td>\n",
              "    </tr>\n",
              "    <tr>\n",
              "      <th>home_ownership</th>\n",
              "      <td>396030</td>\n",
              "      <td>6</td>\n",
              "      <td>MORTGAGE</td>\n",
              "      <td>198348</td>\n",
              "    </tr>\n",
              "    <tr>\n",
              "      <th>verification_status</th>\n",
              "      <td>396030</td>\n",
              "      <td>3</td>\n",
              "      <td>Verified</td>\n",
              "      <td>139563</td>\n",
              "    </tr>\n",
              "    <tr>\n",
              "      <th>issue_d</th>\n",
              "      <td>396030</td>\n",
              "      <td>115</td>\n",
              "      <td>Oct-2014</td>\n",
              "      <td>14846</td>\n",
              "    </tr>\n",
              "    <tr>\n",
              "      <th>loan_status</th>\n",
              "      <td>396030</td>\n",
              "      <td>2</td>\n",
              "      <td>Fully Paid</td>\n",
              "      <td>318357</td>\n",
              "    </tr>\n",
              "    <tr>\n",
              "      <th>purpose</th>\n",
              "      <td>396030</td>\n",
              "      <td>14</td>\n",
              "      <td>debt_consolidation</td>\n",
              "      <td>234507</td>\n",
              "    </tr>\n",
              "    <tr>\n",
              "      <th>title</th>\n",
              "      <td>394275</td>\n",
              "      <td>48817</td>\n",
              "      <td>Debt consolidation</td>\n",
              "      <td>152472</td>\n",
              "    </tr>\n",
              "    <tr>\n",
              "      <th>earliest_cr_line</th>\n",
              "      <td>396030</td>\n",
              "      <td>684</td>\n",
              "      <td>Oct-2000</td>\n",
              "      <td>3017</td>\n",
              "    </tr>\n",
              "    <tr>\n",
              "      <th>initial_list_status</th>\n",
              "      <td>396030</td>\n",
              "      <td>2</td>\n",
              "      <td>f</td>\n",
              "      <td>238066</td>\n",
              "    </tr>\n",
              "    <tr>\n",
              "      <th>application_type</th>\n",
              "      <td>396030</td>\n",
              "      <td>3</td>\n",
              "      <td>INDIVIDUAL</td>\n",
              "      <td>395319</td>\n",
              "    </tr>\n",
              "    <tr>\n",
              "      <th>address</th>\n",
              "      <td>396030</td>\n",
              "      <td>393700</td>\n",
              "      <td>USCGC Smith\\r\\nFPO AE 70466</td>\n",
              "      <td>8</td>\n",
              "    </tr>\n",
              "  </tbody>\n",
              "</table>\n",
              "</div>\n",
              "      <button class=\"colab-df-convert\" onclick=\"convertToInteractive('df-57dc8260-a91f-4658-8571-a75e8264ee31')\"\n",
              "              title=\"Convert this dataframe to an interactive table.\"\n",
              "              style=\"display:none;\">\n",
              "        \n",
              "  <svg xmlns=\"http://www.w3.org/2000/svg\" height=\"24px\"viewBox=\"0 0 24 24\"\n",
              "       width=\"24px\">\n",
              "    <path d=\"M0 0h24v24H0V0z\" fill=\"none\"/>\n",
              "    <path d=\"M18.56 5.44l.94 2.06.94-2.06 2.06-.94-2.06-.94-.94-2.06-.94 2.06-2.06.94zm-11 1L8.5 8.5l.94-2.06 2.06-.94-2.06-.94L8.5 2.5l-.94 2.06-2.06.94zm10 10l.94 2.06.94-2.06 2.06-.94-2.06-.94-.94-2.06-.94 2.06-2.06.94z\"/><path d=\"M17.41 7.96l-1.37-1.37c-.4-.4-.92-.59-1.43-.59-.52 0-1.04.2-1.43.59L10.3 9.45l-7.72 7.72c-.78.78-.78 2.05 0 2.83L4 21.41c.39.39.9.59 1.41.59.51 0 1.02-.2 1.41-.59l7.78-7.78 2.81-2.81c.8-.78.8-2.07 0-2.86zM5.41 20L4 18.59l7.72-7.72 1.47 1.35L5.41 20z\"/>\n",
              "  </svg>\n",
              "      </button>\n",
              "      \n",
              "  <style>\n",
              "    .colab-df-container {\n",
              "      display:flex;\n",
              "      flex-wrap:wrap;\n",
              "      gap: 12px;\n",
              "    }\n",
              "\n",
              "    .colab-df-convert {\n",
              "      background-color: #E8F0FE;\n",
              "      border: none;\n",
              "      border-radius: 50%;\n",
              "      cursor: pointer;\n",
              "      display: none;\n",
              "      fill: #1967D2;\n",
              "      height: 32px;\n",
              "      padding: 0 0 0 0;\n",
              "      width: 32px;\n",
              "    }\n",
              "\n",
              "    .colab-df-convert:hover {\n",
              "      background-color: #E2EBFA;\n",
              "      box-shadow: 0px 1px 2px rgba(60, 64, 67, 0.3), 0px 1px 3px 1px rgba(60, 64, 67, 0.15);\n",
              "      fill: #174EA6;\n",
              "    }\n",
              "\n",
              "    [theme=dark] .colab-df-convert {\n",
              "      background-color: #3B4455;\n",
              "      fill: #D2E3FC;\n",
              "    }\n",
              "\n",
              "    [theme=dark] .colab-df-convert:hover {\n",
              "      background-color: #434B5C;\n",
              "      box-shadow: 0px 1px 3px 1px rgba(0, 0, 0, 0.15);\n",
              "      filter: drop-shadow(0px 1px 2px rgba(0, 0, 0, 0.3));\n",
              "      fill: #FFFFFF;\n",
              "    }\n",
              "  </style>\n",
              "\n",
              "      <script>\n",
              "        const buttonEl =\n",
              "          document.querySelector('#df-57dc8260-a91f-4658-8571-a75e8264ee31 button.colab-df-convert');\n",
              "        buttonEl.style.display =\n",
              "          google.colab.kernel.accessAllowed ? 'block' : 'none';\n",
              "\n",
              "        async function convertToInteractive(key) {\n",
              "          const element = document.querySelector('#df-57dc8260-a91f-4658-8571-a75e8264ee31');\n",
              "          const dataTable =\n",
              "            await google.colab.kernel.invokeFunction('convertToInteractive',\n",
              "                                                     [key], {});\n",
              "          if (!dataTable) return;\n",
              "\n",
              "          const docLinkHtml = 'Like what you see? Visit the ' +\n",
              "            '<a target=\"_blank\" href=https://colab.research.google.com/notebooks/data_table.ipynb>data table notebook</a>'\n",
              "            + ' to learn more about interactive tables.';\n",
              "          element.innerHTML = '';\n",
              "          dataTable['output_type'] = 'display_data';\n",
              "          await google.colab.output.renderOutput(dataTable, element);\n",
              "          const docLink = document.createElement('div');\n",
              "          docLink.innerHTML = docLinkHtml;\n",
              "          element.appendChild(docLink);\n",
              "        }\n",
              "      </script>\n",
              "    </div>\n",
              "  </div>\n",
              "  "
            ]
          },
          "metadata": {},
          "execution_count": 8
        }
      ],
      "source": [
        "df.describe(include=['object']).transpose()"
      ],
      "id": "d6494aba-a5ea-47e7-af1e-0eb87ddc1d68"
    },
    {
      "cell_type": "markdown",
      "metadata": {
        "id": "yBw3wAm6X81U"
      },
      "source": [
        "## 3. Exploratory Data Analysis"
      ],
      "id": "yBw3wAm6X81U"
    },
    {
      "cell_type": "code",
      "source": [
        "plt.figure(figsize=(12, 4))\n",
        "sns.histplot(df['loan_amnt'], kde=False, bins=40)"
      ],
      "metadata": {
        "colab": {
          "base_uri": "https://localhost:8080/",
          "height": 279
        },
        "id": "5dEBom4SX-gP",
        "outputId": "ecb269c7-9be8-405a-add9-980c5f7e7b68"
      },
      "id": "5dEBom4SX-gP",
      "execution_count": null,
      "outputs": [
        {
          "output_type": "execute_result",
          "data": {
            "text/plain": [
              "<Axes: xlabel='loan_amnt', ylabel='Count'>"
            ]
          },
          "metadata": {},
          "execution_count": 9
        },
        {
          "output_type": "display_data",
          "data": {
            "text/plain": [
              "<Figure size 1200x400 with 1 Axes>"
            ],
            "image/png": "[encoded data removed]"
          },
          "metadata": {}
        }
      ]
    },
    {
      "cell_type": "code",
      "source": [
        "sns.scatterplot(x='installment', y='loan_amnt', data=df)"
      ],
      "metadata": {
        "colab": {
          "base_uri": "https://localhost:8080/",
          "height": 467
        },
        "id": "ccmZ1s5xipSz",
        "outputId": "c5107663-9cb9-40e1-b3b0-381ba87e19fc"
      },
      "id": "ccmZ1s5xipSz",
      "execution_count": null,
      "outputs": [
        {
          "output_type": "execute_result",
          "data": {
            "text/plain": [
              "<Axes: xlabel='installment', ylabel='loan_amnt'>"
            ]
          },
          "metadata": {},
          "execution_count": 10
        },
        {
          "output_type": "display_data",
          "data": {
            "text/plain": [
              "<Figure size 640x480 with 1 Axes>"
            ],
            "image/png": "[encoded data removed]"
          },
          "metadata": {}
        }
      ]
    },
    {
      "cell_type": "code",
      "source": [
        "sns.boxplot(x='loan_status', y='loan_amnt', data=df)"
      ],
      "metadata": {
        "colab": {
          "base_uri": "https://localhost:8080/",
          "height": 468
        },
        "id": "73X-BQesjcpE",
        "outputId": "9d06325e-dff2-45be-8735-989efebfd872"
      },
      "id": "73X-BQesjcpE",
      "execution_count": null,
      "outputs": [
        {
          "output_type": "execute_result",
          "data": {
            "text/plain": [
              "<Axes: xlabel='loan_status', ylabel='loan_amnt'>"
            ]
          },
          "metadata": {},
          "execution_count": 11
        },
        {
          "output_type": "display_data",
          "data": {
            "text/plain": [
              "<Figure size 640x480 with 1 Axes>"
            ],
            "image/png": "[encoded data removed]"
          },
          "metadata": {}
        }
      ]
    },
    {
      "cell_type": "code",
      "source": [
        "df.groupby('loan_status')['loan_amnt'].describe()"
      ],
      "metadata": {
        "colab": {
          "base_uri": "https://localhost:8080/",
          "height": 208
        },
        "id": "0QK254YLkVUF",
        "outputId": "e50cf2fb-0a4e-4340-f6b5-c33efdf0e709"
      },
      "id": "0QK254YLkVUF",
      "execution_count": null,
      "outputs": [
        {
          "output_type": "execute_result",
          "data": {
            "text/plain": [
              "                count          mean          std     min     25%      50%  \\\n",
              "loan_status                                                                 \n",
              "Charged Off   77673.0  15126.300967  8505.090557  1000.0  8525.0  14000.0   \n",
              "Fully Paid   318357.0  13866.878771  8302.319699   500.0  7500.0  12000.0   \n",
              "\n",
              "                 75%      max  \n",
              "loan_status                    \n",
              "Charged Off  20000.0  40000.0  \n",
              "Fully Paid   19225.0  40000.0  "
            ],
            "text/html": [
              "\n",
              "  <div id=\"df-99bb36d6-b5de-443c-adda-e624bd7b8069\">\n",
              "    <div class=\"colab-df-container\">\n",
              "      <div>\n",
              "<style scoped>\n",
              "    .dataframe tbody tr th:only-of-type {\n",
              "        vertical-align: middle;\n",
              "    }\n",
              "\n",
              "    .dataframe tbody tr th {\n",
              "        vertical-align: top;\n",
              "    }\n",
              "\n",
              "    .dataframe thead th {\n",
              "        text-align: right;\n",
              "    }\n",
              "</style>\n",
              "<table border=\"1\" class=\"dataframe\">\n",
              "  <thead>\n",
              "    <tr style=\"text-align: right;\">\n",
              "      <th></th>\n",
              "      <th>count</th>\n",
              "      <th>mean</th>\n",
              "      <th>std</th>\n",
              "      <th>min</th>\n",
              "      <th>25%</th>\n",
              "      <th>50%</th>\n",
              "      <th>75%</th>\n",
              "      <th>max</th>\n",
              "    </tr>\n",
              "    <tr>\n",
              "      <th>loan_status</th>\n",
              "      <th></th>\n",
              "      <th></th>\n",
              "      <th></th>\n",
              "      <th></th>\n",
              "      <th></th>\n",
              "      <th></th>\n",
              "      <th></th>\n",
              "      <th></th>\n",
              "    </tr>\n",
              "  </thead>\n",
              "  <tbody>\n",
              "    <tr>\n",
              "      <th>Charged Off</th>\n",
              "      <td>77673.0</td>\n",
              "      <td>15126.300967</td>\n",
              "      <td>8505.090557</td>\n",
              "      <td>1000.0</td>\n",
              "      <td>8525.0</td>\n",
              "      <td>14000.0</td>\n",
              "      <td>20000.0</td>\n",
              "      <td>40000.0</td>\n",
              "    </tr>\n",
              "    <tr>\n",
              "      <th>Fully Paid</th>\n",
              "      <td>318357.0</td>\n",
              "      <td>13866.878771</td>\n",
              "      <td>8302.319699</td>\n",
              "      <td>500.0</td>\n",
              "      <td>7500.0</td>\n",
              "      <td>12000.0</td>\n",
              "      <td>19225.0</td>\n",
              "      <td>40000.0</td>\n",
              "    </tr>\n",
              "  </tbody>\n",
              "</table>\n",
              "</div>\n",
              "      <button class=\"colab-df-convert\" onclick=\"convertToInteractive('df-99bb36d6-b5de-443c-adda-e624bd7b8069')\"\n",
              "              title=\"Convert this dataframe to an interactive table.\"\n",
              "              style=\"display:none;\">\n",
              "        \n",
              "  <svg xmlns=\"http://www.w3.org/2000/svg\" height=\"24px\"viewBox=\"0 0 24 24\"\n",
              "       width=\"24px\">\n",
              "    <path d=\"M0 0h24v24H0V0z\" fill=\"none\"/>\n",
              "    <path d=\"M18.56 5.44l.94 2.06.94-2.06 2.06-.94-2.06-.94-.94-2.06-.94 2.06-2.06.94zm-11 1L8.5 8.5l.94-2.06 2.06-.94-2.06-.94L8.5 2.5l-.94 2.06-2.06.94zm10 10l.94 2.06.94-2.06 2.06-.94-2.06-.94-.94-2.06-.94 2.06-2.06.94z\"/><path d=\"M17.41 7.96l-1.37-1.37c-.4-.4-.92-.59-1.43-.59-.52 0-1.04.2-1.43.59L10.3 9.45l-7.72 7.72c-.78.78-.78 2.05 0 2.83L4 21.41c.39.39.9.59 1.41.59.51 0 1.02-.2 1.41-.59l7.78-7.78 2.81-2.81c.8-.78.8-2.07 0-2.86zM5.41 20L4 18.59l7.72-7.72 1.47 1.35L5.41 20z\"/>\n",
              "  </svg>\n",
              "      </button>\n",
              "      \n",
              "  <style>\n",
              "    .colab-df-container {\n",
              "      display:flex;\n",
              "      flex-wrap:wrap;\n",
              "      gap: 12px;\n",
              "    }\n",
              "\n",
              "    .colab-df-convert {\n",
              "      background-color: #E8F0FE;\n",
              "      border: none;\n",
              "      border-radius: 50%;\n",
              "      cursor: pointer;\n",
              "      display: none;\n",
              "      fill: #1967D2;\n",
              "      height: 32px;\n",
              "      padding: 0 0 0 0;\n",
              "      width: 32px;\n",
              "    }\n",
              "\n",
              "    .colab-df-convert:hover {\n",
              "      background-color: #E2EBFA;\n",
              "      box-shadow: 0px 1px 2px rgba(60, 64, 67, 0.3), 0px 1px 3px 1px rgba(60, 64, 67, 0.15);\n",
              "      fill: #174EA6;\n",
              "    }\n",
              "\n",
              "    [theme=dark] .colab-df-convert {\n",
              "      background-color: #3B4455;\n",
              "      fill: #D2E3FC;\n",
              "    }\n",
              "\n",
              "    [theme=dark] .colab-df-convert:hover {\n",
              "      background-color: #434B5C;\n",
              "      box-shadow: 0px 1px 3px 1px rgba(0, 0, 0, 0.15);\n",
              "      filter: drop-shadow(0px 1px 2px rgba(0, 0, 0, 0.3));\n",
              "      fill: #FFFFFF;\n",
              "    }\n",
              "  </style>\n",
              "\n",
              "      <script>\n",
              "        const buttonEl =\n",
              "          document.querySelector('#df-99bb36d6-b5de-443c-adda-e624bd7b8069 button.colab-df-convert');\n",
              "        buttonEl.style.display =\n",
              "          google.colab.kernel.accessAllowed ? 'block' : 'none';\n",
              "\n",
              "        async function convertToInteractive(key) {\n",
              "          const element = document.querySelector('#df-99bb36d6-b5de-443c-adda-e624bd7b8069');\n",
              "          const dataTable =\n",
              "            await google.colab.kernel.invokeFunction('convertToInteractive',\n",
              "                                                     [key], {});\n",
              "          if (!dataTable) return;\n",
              "\n",
              "          const docLinkHtml = 'Like what you see? Visit the ' +\n",
              "            '<a target=\"_blank\" href=https://colab.research.google.com/notebooks/data_table.ipynb>data table notebook</a>'\n",
              "            + ' to learn more about interactive tables.';\n",
              "          element.innerHTML = '';\n",
              "          dataTable['output_type'] = 'display_data';\n",
              "          await google.colab.output.renderOutput(dataTable, element);\n",
              "          const docLink = document.createElement('div');\n",
              "          docLink.innerHTML = docLinkHtml;\n",
              "          element.appendChild(docLink);\n",
              "        }\n",
              "      </script>\n",
              "    </div>\n",
              "  </div>\n",
              "  "
            ]
          },
          "metadata": {},
          "execution_count": 12
        }
      ]
    },
    {
      "cell_type": "code",
      "source": [
        "df.grade.value_counts()"
      ],
      "metadata": {
        "colab": {
          "base_uri": "https://localhost:8080/"
        },
        "id": "k-Tl6T0pl4t1",
        "outputId": "c8ec3d5e-a61d-4fd4-ecb8-5b02e5d92022"
      },
      "id": "k-Tl6T0pl4t1",
      "execution_count": null,
      "outputs": [
        {
          "output_type": "execute_result",
          "data": {
            "text/plain": [
              "B    116018\n",
              "C    105987\n",
              "A     64187\n",
              "D     63524\n",
              "E     31488\n",
              "F     11772\n",
              "G      3054\n",
              "Name: grade, dtype: int64"
            ]
          },
          "metadata": {},
          "execution_count": 13
        }
      ]
    },
    {
      "cell_type": "code",
      "source": [
        "grade_order = sorted(df['grade'].unique())\n",
        "sns.countplot(data=df, x='grade', hue='loan_status', order=grade_order)"
      ],
      "metadata": {
        "colab": {
          "base_uri": "https://localhost:8080/",
          "height": 467
        },
        "id": "Ek_CA2T_nMS5",
        "outputId": "1f73b88d-b099-4243-9564-bcb1db50225b"
      },
      "id": "Ek_CA2T_nMS5",
      "execution_count": null,
      "outputs": [
        {
          "output_type": "execute_result",
          "data": {
            "text/plain": [
              "<Axes: xlabel='grade', ylabel='count'>"
            ]
          },
          "metadata": {},
          "execution_count": 14
        },
        {
          "output_type": "display_data",
          "data": {
            "text/plain": [
              "<Figure size 640x480 with 1 Axes>"
            ],
            "image/png": "[encoded data removed]"
          },
          "metadata": {}
        }
      ]
    },
    {
      "cell_type": "code",
      "source": [
        "df.groupby('grade')['sub_grade'].value_counts()"
      ],
      "metadata": {
        "colab": {
          "base_uri": "https://localhost:8080/"
        },
        "id": "EKT0Oq9JmNyF",
        "outputId": "60951ca4-dcac-485d-e2de-05fc7aadc9be"
      },
      "id": "EKT0Oq9JmNyF",
      "execution_count": null,
      "outputs": [
        {
          "output_type": "execute_result",
          "data": {
            "text/plain": [
              "grade  sub_grade\n",
              "A      A5           18526\n",
              "       A4           15789\n",
              "       A3           10576\n",
              "       A1            9729\n",
              "       A2            9567\n",
              "B      B3           26655\n",
              "       B4           25601\n",
              "       B2           22495\n",
              "       B5           22085\n",
              "       B1           19182\n",
              "C      C1           23662\n",
              "       C2           22580\n",
              "       C3           21221\n",
              "       C4           20280\n",
              "       C5           18244\n",
              "D      D1           15993\n",
              "       D2           13951\n",
              "       D3           12223\n",
              "       D4           11657\n",
              "       D5            9700\n",
              "E      E1            7917\n",
              "       E2            7431\n",
              "       E3            6207\n",
              "       E4            5361\n",
              "       E5            4572\n",
              "F      F1            3536\n",
              "       F2            2766\n",
              "       F3            2286\n",
              "       F4            1787\n",
              "       F5            1397\n",
              "G      G1            1058\n",
              "       G2             754\n",
              "       G3             552\n",
              "       G4             374\n",
              "       G5             316\n",
              "Name: sub_grade, dtype: int64"
            ]
          },
          "metadata": {},
          "execution_count": 15
        }
      ]
    },
    {
      "cell_type": "code",
      "source": [
        "plt.figure(figsize=(12, 4))\n",
        "subgrade_order = sorted(df['sub_grade'].unique())\n",
        "sns.countplot(x='sub_grade', data=df, order=subgrade_order,\n",
        "              palette='coolwarm', hue='loan_status')"
      ],
      "metadata": {
        "colab": {
          "base_uri": "https://localhost:8080/",
          "height": 279
        },
        "id": "PLTrmzaPoKFv",
        "outputId": "49ae704b-d2d0-4e5e-f281-68352a20f83b"
      },
      "id": "PLTrmzaPoKFv",
      "execution_count": null,
      "outputs": [
        {
          "output_type": "execute_result",
          "data": {
            "text/plain": [
              "<Axes: xlabel='sub_grade', ylabel='count'>"
            ]
          },
          "metadata": {},
          "execution_count": 16
        },
        {
          "output_type": "display_data",
          "data": {
            "text/plain": [
              "<Figure size 1200x400 with 1 Axes>"
            ],
            "image/png": "[encoded data removed]"
          },
          "metadata": {}
        }
      ]
    },
    {
      "cell_type": "code",
      "source": [
        "f_and_g = df[(df['grade'] == 'G') | (df['grade'] == 'F')]\n",
        "plt.figure(figsize=(12, 4))\n",
        "subgrade_order = sorted(f_and_g['sub_grade'].unique())\n",
        "sns.countplot(x='sub_grade', data=f_and_g, order=subgrade_order,\n",
        "              palette='coolwarm', hue='loan_status')"
      ],
      "metadata": {
        "colab": {
          "base_uri": "https://localhost:8080/",
          "height": 281
        },
        "id": "V02Q5QyQIdR8",
        "outputId": "80afdea9-6aeb-4649-b0c5-e0ecfec9b600"
      },
      "id": "V02Q5QyQIdR8",
      "execution_count": null,
      "outputs": [
        {
          "output_type": "execute_result",
          "data": {
            "text/plain": [
              "<Axes: xlabel='sub_grade', ylabel='count'>"
            ]
          },
          "metadata": {},
          "execution_count": 17
        },
        {
          "output_type": "display_data",
          "data": {
            "text/plain": [
              "<Figure size 1200x400 with 1 Axes>"
            ],
            "image/png": "[encoded data removed]"
          },
          "metadata": {}
        }
      ]
    },
    {
      "cell_type": "markdown",
      "metadata": {
        "id": "-erPDEDOBQ2S"
      },
      "source": [
        "## 4. Target Variable Preprocessing"
      ],
      "id": "-erPDEDOBQ2S"
    },
    {
      "cell_type": "code",
      "execution_count": null,
      "metadata": {
        "id": "cRzME8zVBWn5",
        "colab": {
          "base_uri": "https://localhost:8080/"
        },
        "outputId": "63d9dc45-bc8e-43e7-facb-8ec57b7ab624"
      },
      "outputs": [
        {
          "output_type": "execute_result",
          "data": {
            "text/plain": [
              "count         396030\n",
              "unique             2\n",
              "top       Fully Paid\n",
              "freq          318357\n",
              "Name: loan_status, dtype: object"
            ]
          },
          "metadata": {},
          "execution_count": 18
        }
      ],
      "source": [
        "df.loan_status.describe()"
      ],
      "id": "cRzME8zVBWn5"
    },
    {
      "cell_type": "code",
      "source": [
        "df.loan_status.value_counts()"
      ],
      "metadata": {
        "colab": {
          "base_uri": "https://localhost:8080/"
        },
        "id": "BcxthyRNZPVu",
        "outputId": "84b77926-36b7-4a4e-9548-37a8123987fb"
      },
      "id": "BcxthyRNZPVu",
      "execution_count": null,
      "outputs": [
        {
          "output_type": "execute_result",
          "data": {
            "text/plain": [
              "Fully Paid     318357\n",
              "Charged Off     77673\n",
              "Name: loan_status, dtype: int64"
            ]
          },
          "metadata": {},
          "execution_count": 19
        }
      ]
    },
    {
      "cell_type": "code",
      "source": [
        "sns.countplot(data=df, y='loan_status')"
      ],
      "metadata": {
        "colab": {
          "base_uri": "https://localhost:8080/",
          "height": 467
        },
        "id": "r_M43AdhZyuF",
        "outputId": "7c07ecbd-cf80-40bd-f8a1-91d0ffb25801"
      },
      "id": "r_M43AdhZyuF",
      "execution_count": null,
      "outputs": [
        {
          "output_type": "execute_result",
          "data": {
            "text/plain": [
              "<Axes: xlabel='count', ylabel='loan_status'>"
            ]
          },
          "metadata": {},
          "execution_count": 20
        },
        {
          "output_type": "display_data",
          "data": {
            "text/plain": [
              "<Figure size 640x480 with 1 Axes>"
            ],
            "image/png": "[encoded data removed]"
          },
          "metadata": {}
        }
      ]
    },
    {
      "cell_type": "code",
      "execution_count": null,
      "metadata": {
        "id": "bBvhZH-qB99t",
        "colab": {
          "base_uri": "https://localhost:8080/"
        },
        "outputId": "3d1dd42c-06e0-4843-a3c4-953eeb6384c2"
      },
      "outputs": [
        {
          "output_type": "execute_result",
          "data": {
            "text/plain": [
              "0"
            ]
          },
          "metadata": {},
          "execution_count": 21
        }
      ],
      "source": [
        "df.loan_status.isnull().sum()"
      ],
      "id": "bBvhZH-qB99t"
    },
    {
      "cell_type": "code",
      "source": [
        "df['Target'] = df['loan_status'].map({'Fully Paid': 1, 'Charged Off': 0})"
      ],
      "metadata": {
        "id": "JyW-Y1beZED0"
      },
      "id": "JyW-Y1beZED0",
      "execution_count": null,
      "outputs": []
    },
    {
      "cell_type": "markdown",
      "metadata": {
        "id": "02bed366-2376-48a7-a382-1ecb862e09f1"
      },
      "source": [
        "## 4. Handling Missing Values"
      ],
      "id": "02bed366-2376-48a7-a382-1ecb862e09f1"
    },
    {
      "cell_type": "code",
      "execution_count": null,
      "metadata": {
        "id": "44f98fe9-02e4-415e-b3c0-77c70a9f9fca",
        "colab": {
          "base_uri": "https://localhost:8080/"
        },
        "outputId": "4377863a-14ec-4a7a-8290-59bd69c08f62"
      },
      "outputs": [
        {
          "output_type": "execute_result",
          "data": {
            "text/plain": [
              "loan_amnt                   0\n",
              "term                        0\n",
              "int_rate                    0\n",
              "installment                 0\n",
              "grade                       0\n",
              "sub_grade                   0\n",
              "emp_title               22927\n",
              "emp_length              18301\n",
              "home_ownership              0\n",
              "annual_inc                  0\n",
              "verification_status         0\n",
              "issue_d                     0\n",
              "loan_status                 0\n",
              "purpose                     0\n",
              "title                    1755\n",
              "dti                         0\n",
              "earliest_cr_line            0\n",
              "open_acc                    0\n",
              "pub_rec                     0\n",
              "revol_bal                   0\n",
              "revol_util                276\n",
              "total_acc                   0\n",
              "initial_list_status         0\n",
              "application_type            0\n",
              "mort_acc                37795\n",
              "pub_rec_bankruptcies      535\n",
              "address                     0\n",
              "Target                      0\n",
              "dtype: int64"
            ]
          },
          "metadata": {},
          "execution_count": 23
        }
      ],
      "source": [
        "df.isnull().sum()"
      ],
      "id": "44f98fe9-02e4-415e-b3c0-77c70a9f9fca"
    },
    {
      "cell_type": "code",
      "execution_count": null,
      "metadata": {
        "id": "8lRet3jTrAJi",
        "colab": {
          "base_uri": "https://localhost:8080/",
          "height": 491
        },
        "outputId": "e94347c6-1959-4396-83ed-099583e9732f"
      },
      "outputs": [
        {
          "output_type": "execute_result",
          "data": {
            "text/plain": [
              "<Axes: >"
            ]
          },
          "metadata": {},
          "execution_count": 24
        },
        {
          "output_type": "display_data",
          "data": {
            "text/plain": [
              "<Figure size 1200x600 with 1 Axes>"
            ],
            "image/png": "[encoded data removed]"
          },
          "metadata": {}
        }
      ],
      "source": [
        "plt.figure(figsize=(12, 6))\n",
        "sns.heatmap(df.isnull(), yticklabels=False, cbar=False, cmap='viridis')"
      ],
      "id": "8lRet3jTrAJi"
    },
    {
      "cell_type": "markdown",
      "source": [
        "> **emp_title**"
      ],
      "metadata": {
        "id": "k1ahEuaMLtml"
      },
      "id": "k1ahEuaMLtml"
    },
    {
      "cell_type": "code",
      "source": [
        "((df.isnull().sum()) / len(df)).map(lambda n: '{:,.2%}'.format(n))['emp_title']"
      ],
      "metadata": {
        "colab": {
          "base_uri": "https://localhost:8080/",
          "height": 35
        },
        "id": "iLTkcGSssnzz",
        "outputId": "fa1263ea-6b70-48c3-d9fb-3fe7e220a7ca"
      },
      "id": "iLTkcGSssnzz",
      "execution_count": null,
      "outputs": [
        {
          "output_type": "execute_result",
          "data": {
            "text/plain": [
              "'5.79%'"
            ],
            "application/vnd.google.colaboratory.intrinsic+json": {
              "type": "string"
            }
          },
          "metadata": {},
          "execution_count": 25
        }
      ]
    },
    {
      "cell_type": "code",
      "source": [
        "df['emp_title'].nunique()"
      ],
      "metadata": {
        "colab": {
          "base_uri": "https://localhost:8080/"
        },
        "id": "VCmlAdFitC2y",
        "outputId": "a4e1f1ea-602c-402a-9c62-3d62d6d2d926"
      },
      "id": "VCmlAdFitC2y",
      "execution_count": null,
      "outputs": [
        {
          "output_type": "execute_result",
          "data": {
            "text/plain": [
              "173105"
            ]
          },
          "metadata": {},
          "execution_count": 26
        }
      ]
    },
    {
      "cell_type": "code",
      "source": [
        "df.emp_title.value_counts()"
      ],
      "metadata": {
        "colab": {
          "base_uri": "https://localhost:8080/"
        },
        "id": "fBc9yDTvsBlO",
        "outputId": "61a31e42-08a8-4fd1-860c-f701236b89eb"
      },
      "id": "fBc9yDTvsBlO",
      "execution_count": null,
      "outputs": [
        {
          "output_type": "execute_result",
          "data": {
            "text/plain": [
              "Teacher                    4389\n",
              "Manager                    4250\n",
              "Registered Nurse           1856\n",
              "RN                         1846\n",
              "Supervisor                 1830\n",
              "                           ... \n",
              "Postman                       1\n",
              "McCarthy & Holthus, LLC       1\n",
              "jp flooring                   1\n",
              "Histology Technologist        1\n",
              "Gracon Services, Inc          1\n",
              "Name: emp_title, Length: 173105, dtype: int64"
            ]
          },
          "metadata": {},
          "execution_count": 27
        }
      ]
    },
    {
      "cell_type": "code",
      "source": [
        "# Remove variable because of too many unique job titles and too high cardinality\n",
        "df.drop(columns=['emp_title'], inplace=True)"
      ],
      "metadata": {
        "id": "POfwC3jpubp6"
      },
      "id": "POfwC3jpubp6",
      "execution_count": null,
      "outputs": []
    },
    {
      "cell_type": "markdown",
      "source": [
        "> **emp_length**"
      ],
      "metadata": {
        "id": "4h2wBiR5vGmK"
      },
      "id": "4h2wBiR5vGmK"
    },
    {
      "cell_type": "code",
      "source": [
        "((df.isnull().sum()) / len(df)).map(lambda n: '{:,.2%}'.format(n))['emp_length']"
      ],
      "metadata": {
        "colab": {
          "base_uri": "https://localhost:8080/",
          "height": 35
        },
        "outputId": "ab6e6f10-2f0c-4f08-e56a-96739b89e8a1",
        "id": "yV_GFAFLvSEZ"
      },
      "execution_count": null,
      "outputs": [
        {
          "output_type": "execute_result",
          "data": {
            "text/plain": [
              "'4.62%'"
            ],
            "application/vnd.google.colaboratory.intrinsic+json": {
              "type": "string"
            }
          },
          "metadata": {},
          "execution_count": 29
        }
      ],
      "id": "yV_GFAFLvSEZ"
    },
    {
      "cell_type": "code",
      "source": [
        "df['emp_length'].value_counts()"
      ],
      "metadata": {
        "colab": {
          "base_uri": "https://localhost:8080/"
        },
        "id": "v2QIVWa0vMb7",
        "outputId": "b0c3b963-76c6-4fce-9d20-3fe674829bb9"
      },
      "id": "v2QIVWa0vMb7",
      "execution_count": null,
      "outputs": [
        {
          "output_type": "execute_result",
          "data": {
            "text/plain": [
              "10+ years    126041\n",
              "2 years       35827\n",
              "< 1 year      31725\n",
              "3 years       31665\n",
              "5 years       26495\n",
              "1 year        25882\n",
              "4 years       23952\n",
              "6 years       20841\n",
              "7 years       20819\n",
              "8 years       19168\n",
              "9 years       15314\n",
              "Name: emp_length, dtype: int64"
            ]
          },
          "metadata": {},
          "execution_count": 30
        }
      ]
    },
    {
      "cell_type": "code",
      "source": [
        "sorted(df.emp_length.dropna().unique())"
      ],
      "metadata": {
        "colab": {
          "base_uri": "https://localhost:8080/"
        },
        "id": "O4eIag89Gmyh",
        "outputId": "814c5d54-5f74-438b-f1a4-18436af5afc8"
      },
      "id": "O4eIag89Gmyh",
      "execution_count": null,
      "outputs": [
        {
          "output_type": "execute_result",
          "data": {
            "text/plain": [
              "['1 year',\n",
              " '10+ years',\n",
              " '2 years',\n",
              " '3 years',\n",
              " '4 years',\n",
              " '5 years',\n",
              " '6 years',\n",
              " '7 years',\n",
              " '8 years',\n",
              " '9 years',\n",
              " '< 1 year']"
            ]
          },
          "metadata": {},
          "execution_count": 31
        }
      ]
    },
    {
      "cell_type": "code",
      "source": [
        "emp_lenght_order = [\n",
        " '< 1 year',\n",
        " '1 year',\n",
        " '2 years',\n",
        " '3 years',\n",
        " '4 years',\n",
        " '5 years',\n",
        " '6 years',\n",
        " '7 years',\n",
        " '8 years',\n",
        " '9 years',\n",
        " '10+ years',\n",
        " ]"
      ],
      "metadata": {
        "id": "_lwx0QzyGzOs"
      },
      "id": "_lwx0QzyGzOs",
      "execution_count": null,
      "outputs": []
    },
    {
      "cell_type": "code",
      "source": [
        "plt.figure(figsize=(12, 4))\n",
        "sns.countplot(data=df, x='emp_length', order=emp_lenght_order, hue='loan_status')"
      ],
      "metadata": {
        "colab": {
          "base_uri": "https://localhost:8080/",
          "height": 277
        },
        "id": "Z5UFNbGTFiUC",
        "outputId": "1b7640a4-cf62-4f8d-ab60-3eee856208e9"
      },
      "id": "Z5UFNbGTFiUC",
      "execution_count": null,
      "outputs": [
        {
          "output_type": "execute_result",
          "data": {
            "text/plain": [
              "<Axes: xlabel='emp_length', ylabel='count'>"
            ]
          },
          "metadata": {},
          "execution_count": 33
        },
        {
          "output_type": "display_data",
          "data": {
            "text/plain": [
              "<Figure size 1200x400 with 1 Axes>"
            ],
            "image/png": "[encoded data removed]"
          },
          "metadata": {}
        }
      ]
    },
    {
      "cell_type": "code",
      "source": [
        "emp_co = df[df['loan_status'] == 'Charged Off'].groupby('emp_length').count()['loan_status']"
      ],
      "metadata": {
        "id": "PakBF_VBH2uz"
      },
      "id": "PakBF_VBH2uz",
      "execution_count": null,
      "outputs": []
    },
    {
      "cell_type": "code",
      "source": [
        "emp_fp = df[df['loan_status'] == 'Fully Paid'].groupby('emp_length').count()['loan_status']"
      ],
      "metadata": {
        "id": "E1dFQH8_JcqM"
      },
      "id": "E1dFQH8_JcqM",
      "execution_count": null,
      "outputs": []
    },
    {
      "cell_type": "code",
      "source": [
        "emp_co/(emp_co + emp_fp)"
      ],
      "metadata": {
        "colab": {
          "base_uri": "https://localhost:8080/"
        },
        "id": "EFkfNs22Jws4",
        "outputId": "486309fc-9ed6-4009-84af-bd95c50484cc"
      },
      "id": "EFkfNs22Jws4",
      "execution_count": null,
      "outputs": [
        {
          "output_type": "execute_result",
          "data": {
            "text/plain": [
              "emp_length\n",
              "1 year       0.199135\n",
              "10+ years    0.184186\n",
              "2 years      0.193262\n",
              "3 years      0.195231\n",
              "4 years      0.192385\n",
              "5 years      0.192187\n",
              "6 years      0.189194\n",
              "7 years      0.194774\n",
              "8 years      0.199760\n",
              "9 years      0.200470\n",
              "< 1 year     0.206872\n",
              "Name: loan_status, dtype: float64"
            ]
          },
          "metadata": {},
          "execution_count": 36
        }
      ]
    },
    {
      "cell_type": "code",
      "source": [
        "(emp_co/(emp_co + emp_fp)).plot(kind='bar')"
      ],
      "metadata": {
        "colab": {
          "base_uri": "https://localhost:8080/",
          "height": 525
        },
        "id": "JJEGnvsGKJg8",
        "outputId": "2b9778d3-a0d4-4956-897d-d4132daa5406"
      },
      "id": "JJEGnvsGKJg8",
      "execution_count": null,
      "outputs": [
        {
          "output_type": "execute_result",
          "data": {
            "text/plain": [
              "<Axes: xlabel='emp_length'>"
            ]
          },
          "metadata": {},
          "execution_count": 37
        },
        {
          "output_type": "display_data",
          "data": {
            "text/plain": [
              "<Figure size 640x480 with 1 Axes>"
            ],
            "image/png": "[encoded data removed]"
          },
          "metadata": {}
        }
      ]
    },
    {
      "cell_type": "code",
      "source": [
        "# Charge off rates are similar across all emp_length and have no information for us. so we drop it.\n",
        "df.drop(columns=['emp_length'], inplace=True)"
      ],
      "metadata": {
        "id": "Y09qYz60KX34"
      },
      "id": "Y09qYz60KX34",
      "execution_count": null,
      "outputs": []
    },
    {
      "cell_type": "markdown",
      "source": [
        "> **title**"
      ],
      "metadata": {
        "id": "gvjFOYdkkogV"
      },
      "id": "gvjFOYdkkogV"
    },
    {
      "cell_type": "code",
      "source": [
        "((df.isnull().sum()) / len(df)).map(lambda n: '{:,.2%}'.format(n))['title']"
      ],
      "metadata": {
        "colab": {
          "base_uri": "https://localhost:8080/",
          "height": 35
        },
        "outputId": "dc5b3070-6ff9-494c-cde4-4f1eaec99c1b",
        "id": "ZouW4tKWkogX"
      },
      "execution_count": null,
      "outputs": [
        {
          "output_type": "execute_result",
          "data": {
            "text/plain": [
              "'0.44%'"
            ],
            "application/vnd.google.colaboratory.intrinsic+json": {
              "type": "string"
            }
          },
          "metadata": {},
          "execution_count": 39
        }
      ],
      "id": "ZouW4tKWkogX"
    },
    {
      "cell_type": "code",
      "source": [
        "df.title.head(15)"
      ],
      "metadata": {
        "colab": {
          "base_uri": "https://localhost:8080/"
        },
        "id": "UubuDsOxnKbb",
        "outputId": "d4718968-2224-4df1-a935-d323761d0d72"
      },
      "id": "UubuDsOxnKbb",
      "execution_count": null,
      "outputs": [
        {
          "output_type": "execute_result",
          "data": {
            "text/plain": [
              "0                    Vacation\n",
              "1          Debt consolidation\n",
              "2     Credit card refinancing\n",
              "3     Credit card refinancing\n",
              "4       Credit Card Refinance\n",
              "5          Debt consolidation\n",
              "6            Home improvement\n",
              "7        No More Credit Cards\n",
              "8          Debt consolidation\n",
              "9          Debt Consolidation\n",
              "10         Debt Consolidation\n",
              "11    Credit card refinancing\n",
              "12         Debt consolidation\n",
              "13         Debt consolidation\n",
              "14                   Business\n",
              "Name: title, dtype: object"
            ]
          },
          "metadata": {},
          "execution_count": 40
        }
      ]
    },
    {
      "cell_type": "code",
      "source": [
        "df.purpose.head(15)"
      ],
      "metadata": {
        "colab": {
          "base_uri": "https://localhost:8080/"
        },
        "id": "d3F73qsonRIx",
        "outputId": "37541f5e-1919-44b6-e072-44a5035366f8"
      },
      "id": "d3F73qsonRIx",
      "execution_count": null,
      "outputs": [
        {
          "output_type": "execute_result",
          "data": {
            "text/plain": [
              "0               vacation\n",
              "1     debt_consolidation\n",
              "2            credit_card\n",
              "3            credit_card\n",
              "4            credit_card\n",
              "5     debt_consolidation\n",
              "6       home_improvement\n",
              "7            credit_card\n",
              "8     debt_consolidation\n",
              "9     debt_consolidation\n",
              "10    debt_consolidation\n",
              "11           credit_card\n",
              "12    debt_consolidation\n",
              "13    debt_consolidation\n",
              "14        small_business\n",
              "Name: purpose, dtype: object"
            ]
          },
          "metadata": {},
          "execution_count": 41
        }
      ]
    },
    {
      "cell_type": "code",
      "source": [
        "# since purpose and title are duplicate, we drop title variable\n",
        "df.drop(columns=['title'], inplace=True)"
      ],
      "metadata": {
        "id": "UmZymHY9ncpC"
      },
      "id": "UmZymHY9ncpC",
      "execution_count": null,
      "outputs": []
    },
    {
      "cell_type": "markdown",
      "source": [
        "> **mort_acc**"
      ],
      "metadata": {
        "id": "f_LZ9Ln6oYii"
      },
      "id": "f_LZ9Ln6oYii"
    },
    {
      "cell_type": "code",
      "source": [
        "((df.isnull().sum()) / len(df)).map(lambda n: '{:,.2%}'.format(n))['mort_acc']"
      ],
      "metadata": {
        "colab": {
          "base_uri": "https://localhost:8080/",
          "height": 35
        },
        "outputId": "b8518937-318a-4a14-d635-130d1952e717",
        "id": "3OyrGsppoYij"
      },
      "execution_count": null,
      "outputs": [
        {
          "output_type": "execute_result",
          "data": {
            "text/plain": [
              "'9.54%'"
            ],
            "application/vnd.google.colaboratory.intrinsic+json": {
              "type": "string"
            }
          },
          "metadata": {},
          "execution_count": 43
        }
      ],
      "id": "3OyrGsppoYij"
    },
    {
      "cell_type": "code",
      "source": [
        "df.mort_acc.value_counts()"
      ],
      "metadata": {
        "colab": {
          "base_uri": "https://localhost:8080/"
        },
        "id": "p5HQjz7roiBE",
        "outputId": "0cd9037d-0959-4b37-d465-c2187661e1ec"
      },
      "id": "p5HQjz7roiBE",
      "execution_count": null,
      "outputs": [
        {
          "output_type": "execute_result",
          "data": {
            "text/plain": [
              "0.0     139777\n",
              "1.0      60416\n",
              "2.0      49948\n",
              "3.0      38049\n",
              "4.0      27887\n",
              "5.0      18194\n",
              "6.0      11069\n",
              "7.0       6052\n",
              "8.0       3121\n",
              "9.0       1656\n",
              "10.0       865\n",
              "11.0       479\n",
              "12.0       264\n",
              "13.0       146\n",
              "14.0       107\n",
              "15.0        61\n",
              "16.0        37\n",
              "17.0        22\n",
              "18.0        18\n",
              "19.0        15\n",
              "20.0        13\n",
              "24.0        10\n",
              "22.0         7\n",
              "21.0         4\n",
              "25.0         4\n",
              "27.0         3\n",
              "32.0         2\n",
              "31.0         2\n",
              "23.0         2\n",
              "26.0         2\n",
              "28.0         1\n",
              "30.0         1\n",
              "34.0         1\n",
              "Name: mort_acc, dtype: int64"
            ]
          },
          "metadata": {},
          "execution_count": 44
        }
      ]
    },
    {
      "cell_type": "code",
      "source": [
        "df.corr(numeric_only=True)['mort_acc'].sort_values(ascending=False)"
      ],
      "metadata": {
        "colab": {
          "base_uri": "https://localhost:8080/"
        },
        "id": "p4KmSuewpN1C",
        "outputId": "bd7527a4-d325-447f-a32f-79d032286c4f"
      },
      "id": "p4KmSuewpN1C",
      "execution_count": null,
      "outputs": [
        {
          "output_type": "execute_result",
          "data": {
            "text/plain": [
              "mort_acc                1.000000\n",
              "total_acc               0.381072\n",
              "annual_inc              0.236320\n",
              "loan_amnt               0.222315\n",
              "revol_bal               0.194925\n",
              "installment             0.193694\n",
              "open_acc                0.109205\n",
              "Target                  0.073111\n",
              "pub_rec_bankruptcies    0.027239\n",
              "pub_rec                 0.011552\n",
              "revol_util              0.007514\n",
              "dti                    -0.025439\n",
              "int_rate               -0.082583\n",
              "Name: mort_acc, dtype: float64"
            ]
          },
          "metadata": {},
          "execution_count": 45
        }
      ]
    },
    {
      "cell_type": "code",
      "source": [
        "avg_mort_by_total = df.groupby('total_acc').mean(numeric_only=True)['mort_acc']"
      ],
      "metadata": {
        "id": "45fVH_OAwmkX"
      },
      "id": "45fVH_OAwmkX",
      "execution_count": null,
      "outputs": []
    },
    {
      "cell_type": "code",
      "source": [
        "def fill_mort_acc(total_acc, mort_acc):\n",
        "  if np.isnan(mort_acc):\n",
        "    return avg_mort_by_total[total_acc]\n",
        "  else:\n",
        "    return mort_acc"
      ],
      "metadata": {
        "id": "fXZLMPG8x05e"
      },
      "id": "fXZLMPG8x05e",
      "execution_count": null,
      "outputs": []
    },
    {
      "cell_type": "code",
      "source": [
        "df['mort_acc'] = df.apply(lambda x: fill_mort_acc(x['total_acc'], x['mort_acc']), axis=1)"
      ],
      "metadata": {
        "id": "IAIgcx6oy0Ya"
      },
      "id": "IAIgcx6oy0Ya",
      "execution_count": null,
      "outputs": []
    },
    {
      "cell_type": "markdown",
      "source": [
        "> **revol_util**\n",
        "\n",
        "> **pub_rec_bankruptcies**"
      ],
      "metadata": {
        "id": "99XXdFSF0KAQ"
      },
      "id": "99XXdFSF0KAQ"
    },
    {
      "cell_type": "code",
      "source": [
        "((df.isnull().sum()) / len(df)).map(lambda n: '{:,.2%}'.format(n))['revol_util']"
      ],
      "metadata": {
        "colab": {
          "base_uri": "https://localhost:8080/",
          "height": 35
        },
        "id": "I8mCl__O0j02",
        "outputId": "b459e738-3bc2-4b72-ce31-8ac1920303e4"
      },
      "id": "I8mCl__O0j02",
      "execution_count": null,
      "outputs": [
        {
          "output_type": "execute_result",
          "data": {
            "text/plain": [
              "'0.07%'"
            ],
            "application/vnd.google.colaboratory.intrinsic+json": {
              "type": "string"
            }
          },
          "metadata": {},
          "execution_count": 49
        }
      ]
    },
    {
      "cell_type": "code",
      "source": [
        "((df.isnull().sum()) / len(df)).map(lambda n: '{:,.2%}'.format(n))['pub_rec_bankruptcies']"
      ],
      "metadata": {
        "colab": {
          "base_uri": "https://localhost:8080/",
          "height": 35
        },
        "outputId": "427e9c7a-b4a9-407b-ea6c-40d70b7f899a",
        "id": "AUHNMS_j0KAo"
      },
      "execution_count": null,
      "outputs": [
        {
          "output_type": "execute_result",
          "data": {
            "text/plain": [
              "'0.14%'"
            ],
            "application/vnd.google.colaboratory.intrinsic+json": {
              "type": "string"
            }
          },
          "metadata": {},
          "execution_count": 50
        }
      ],
      "id": "AUHNMS_j0KAo"
    },
    {
      "cell_type": "code",
      "source": [
        "df = df.dropna()"
      ],
      "metadata": {
        "id": "enKtpdud0oZ4"
      },
      "id": "enKtpdud0oZ4",
      "execution_count": null,
      "outputs": []
    },
    {
      "cell_type": "code",
      "source": [
        "df.isnull().sum()"
      ],
      "metadata": {
        "colab": {
          "base_uri": "https://localhost:8080/"
        },
        "id": "_hZcA8dW0xX_",
        "outputId": "2a1082bf-0929-453e-93e3-0724aba5a587"
      },
      "id": "_hZcA8dW0xX_",
      "execution_count": null,
      "outputs": [
        {
          "output_type": "execute_result",
          "data": {
            "text/plain": [
              "loan_amnt               0\n",
              "term                    0\n",
              "int_rate                0\n",
              "installment             0\n",
              "grade                   0\n",
              "sub_grade               0\n",
              "home_ownership          0\n",
              "annual_inc              0\n",
              "verification_status     0\n",
              "issue_d                 0\n",
              "loan_status             0\n",
              "purpose                 0\n",
              "dti                     0\n",
              "earliest_cr_line        0\n",
              "open_acc                0\n",
              "pub_rec                 0\n",
              "revol_bal               0\n",
              "revol_util              0\n",
              "total_acc               0\n",
              "initial_list_status     0\n",
              "application_type        0\n",
              "mort_acc                0\n",
              "pub_rec_bankruptcies    0\n",
              "address                 0\n",
              "Target                  0\n",
              "dtype: int64"
            ]
          },
          "metadata": {},
          "execution_count": 52
        }
      ]
    },
    {
      "cell_type": "markdown",
      "metadata": {
        "id": "LXmsmNrd1UcH"
      },
      "source": [
        "## 5. Handling Categorical features"
      ],
      "id": "LXmsmNrd1UcH"
    },
    {
      "cell_type": "code",
      "source": [
        "df.select_dtypes(['object']).columns"
      ],
      "metadata": {
        "colab": {
          "base_uri": "https://localhost:8080/"
        },
        "id": "A8jv1fsn2ETK",
        "outputId": "d53ab69c-b383-4eec-9532-30a2e2e8bfd5"
      },
      "id": "A8jv1fsn2ETK",
      "execution_count": null,
      "outputs": [
        {
          "output_type": "execute_result",
          "data": {
            "text/plain": [
              "Index(['term', 'grade', 'sub_grade', 'home_ownership', 'verification_status',\n",
              "       'issue_d', 'loan_status', 'purpose', 'earliest_cr_line',\n",
              "       'initial_list_status', 'application_type', 'address'],\n",
              "      dtype='object')"
            ]
          },
          "metadata": {},
          "execution_count": 53
        }
      ]
    },
    {
      "cell_type": "markdown",
      "source": [
        "> **term**"
      ],
      "metadata": {
        "id": "MOgjALx23l2G"
      },
      "id": "MOgjALx23l2G"
    },
    {
      "cell_type": "code",
      "source": [
        "df.term.value_counts()"
      ],
      "metadata": {
        "colab": {
          "base_uri": "https://localhost:8080/"
        },
        "id": "PKlnaQqW3tKP",
        "outputId": "8d19bcf2-8cb2-4f11-8ead-d8d6a8023024"
      },
      "id": "PKlnaQqW3tKP",
      "execution_count": null,
      "outputs": [
        {
          "output_type": "execute_result",
          "data": {
            "text/plain": [
              " 36 months    301247\n",
              " 60 months     93972\n",
              "Name: term, dtype: int64"
            ]
          },
          "metadata": {},
          "execution_count": 54
        }
      ]
    },
    {
      "cell_type": "code",
      "source": [
        "df['term'] = df['term'].apply(lambda term: int(term[:3]))"
      ],
      "metadata": {
        "id": "qpDtEEfN4O12"
      },
      "id": "qpDtEEfN4O12",
      "execution_count": null,
      "outputs": []
    },
    {
      "cell_type": "markdown",
      "source": [
        "> **grade**"
      ],
      "metadata": {
        "id": "3kXUW8kPeCpv"
      },
      "id": "3kXUW8kPeCpv"
    },
    {
      "cell_type": "code",
      "source": [
        "# since grade is part of sub_grade, we drop it.\n",
        "df.drop(columns=['grade'], inplace=True)"
      ],
      "metadata": {
        "id": "naVi239leF7A"
      },
      "id": "naVi239leF7A",
      "execution_count": null,
      "outputs": []
    },
    {
      "cell_type": "markdown",
      "source": [
        "> **sub_grade**"
      ],
      "metadata": {
        "id": "9TEz0cWqelyX"
      },
      "id": "9TEz0cWqelyX"
    },
    {
      "cell_type": "code",
      "source": [
        "df.sub_grade.value_counts()"
      ],
      "metadata": {
        "id": "mN1s1bwnj3JN",
        "colab": {
          "base_uri": "https://localhost:8080/"
        },
        "outputId": "88eea34b-7a71-4bbf-ba92-d4889e91d1b0"
      },
      "id": "mN1s1bwnj3JN",
      "execution_count": null,
      "outputs": [
        {
          "output_type": "execute_result",
          "data": {
            "text/plain": [
              "B3    26611\n",
              "B4    25558\n",
              "C1    23609\n",
              "C2    22541\n",
              "B2    22457\n",
              "B5    22046\n",
              "C3    21178\n",
              "C4    20232\n",
              "B1    19140\n",
              "A5    18500\n",
              "C5    18215\n",
              "D1    15947\n",
              "A4    15763\n",
              "D2    13916\n",
              "D3    12196\n",
              "D4    11625\n",
              "A3    10537\n",
              "A1     9717\n",
              "D5     9680\n",
              "A2     9539\n",
              "E1     7906\n",
              "E2     7410\n",
              "E3     6196\n",
              "E4     5354\n",
              "E5     4561\n",
              "F1     3530\n",
              "F2     2756\n",
              "F3     2277\n",
              "F4     1782\n",
              "F5     1395\n",
              "G1     1057\n",
              "G2      752\n",
              "G3      552\n",
              "G4      371\n",
              "G5      313\n",
              "Name: sub_grade, dtype: int64"
            ]
          },
          "metadata": {},
          "execution_count": 57
        }
      ]
    },
    {
      "cell_type": "code",
      "source": [
        "df = pd.get_dummies(df, columns=['sub_grade'], drop_first=True)"
      ],
      "metadata": {
        "id": "JyohRTPoeyiW"
      },
      "id": "JyohRTPoeyiW",
      "execution_count": null,
      "outputs": []
    },
    {
      "cell_type": "markdown",
      "source": [
        "> **verification_status**"
      ],
      "metadata": {
        "id": "aVsSZnckj_G3"
      },
      "id": "aVsSZnckj_G3"
    },
    {
      "cell_type": "code",
      "source": [
        "df.verification_status.value_counts()"
      ],
      "metadata": {
        "colab": {
          "base_uri": "https://localhost:8080/"
        },
        "id": "FMikH10Zj_G4",
        "outputId": "74e6d78d-5147-43dc-f205-ce509d7bc890"
      },
      "execution_count": null,
      "outputs": [
        {
          "output_type": "execute_result",
          "data": {
            "text/plain": [
              "Verified           139451\n",
              "Source Verified    131301\n",
              "Not Verified       124467\n",
              "Name: verification_status, dtype: int64"
            ]
          },
          "metadata": {},
          "execution_count": 59
        }
      ],
      "id": "FMikH10Zj_G4"
    },
    {
      "cell_type": "code",
      "source": [
        "df = pd.get_dummies(df, columns=['verification_status'], drop_first=True)"
      ],
      "metadata": {
        "id": "gzXFyKTwkLau"
      },
      "id": "gzXFyKTwkLau",
      "execution_count": null,
      "outputs": []
    },
    {
      "cell_type": "markdown",
      "source": [
        "> **application_type**"
      ],
      "metadata": {
        "id": "ZXwQ0fErkeb-"
      },
      "id": "ZXwQ0fErkeb-"
    },
    {
      "cell_type": "code",
      "source": [
        "df.application_type.value_counts()"
      ],
      "metadata": {
        "colab": {
          "base_uri": "https://localhost:8080/"
        },
        "outputId": "4d20b3d8-4201-4148-9493-12a19471d780",
        "id": "HiG9Uobzkeb_"
      },
      "execution_count": null,
      "outputs": [
        {
          "output_type": "execute_result",
          "data": {
            "text/plain": [
              "INDIVIDUAL    394508\n",
              "JOINT            425\n",
              "DIRECT_PAY       286\n",
              "Name: application_type, dtype: int64"
            ]
          },
          "metadata": {},
          "execution_count": 61
        }
      ],
      "id": "HiG9Uobzkeb_"
    },
    {
      "cell_type": "code",
      "source": [
        "df = pd.get_dummies(df, columns=['application_type'], drop_first=True)"
      ],
      "metadata": {
        "id": "3b9thHhokecA"
      },
      "execution_count": null,
      "outputs": [],
      "id": "3b9thHhokecA"
    },
    {
      "cell_type": "markdown",
      "source": [
        "> **initial_list_status**"
      ],
      "metadata": {
        "id": "EPVEYVSZkfeN"
      },
      "id": "EPVEYVSZkfeN"
    },
    {
      "cell_type": "code",
      "source": [
        "df.initial_list_status.value_counts()"
      ],
      "metadata": {
        "colab": {
          "base_uri": "https://localhost:8080/"
        },
        "outputId": "71016a07-bbfc-4eb2-8409-94886d4e74c7",
        "id": "VFXrZvZBkfeO"
      },
      "execution_count": null,
      "outputs": [
        {
          "output_type": "execute_result",
          "data": {
            "text/plain": [
              "f    237346\n",
              "w    157873\n",
              "Name: initial_list_status, dtype: int64"
            ]
          },
          "metadata": {},
          "execution_count": 63
        }
      ],
      "id": "VFXrZvZBkfeO"
    },
    {
      "cell_type": "code",
      "source": [
        "df = pd.get_dummies(df, columns=['initial_list_status'], drop_first=True)"
      ],
      "metadata": {
        "id": "A7UKwWk1kfeP"
      },
      "execution_count": null,
      "outputs": [],
      "id": "A7UKwWk1kfeP"
    },
    {
      "cell_type": "markdown",
      "source": [
        "> **purpose**"
      ],
      "metadata": {
        "id": "erS6J4s2kgvu"
      },
      "id": "erS6J4s2kgvu"
    },
    {
      "cell_type": "code",
      "source": [
        "df.purpose.value_counts()"
      ],
      "metadata": {
        "colab": {
          "base_uri": "https://localhost:8080/"
        },
        "outputId": "7f6af5a6-3286-42e1-e9bf-968ef8186baf",
        "id": "K1un9kt8kgvv"
      },
      "execution_count": null,
      "outputs": [
        {
          "output_type": "execute_result",
          "data": {
            "text/plain": [
              "debt_consolidation    234169\n",
              "credit_card            82923\n",
              "home_improvement       23961\n",
              "other                  21059\n",
              "major_purchase          8756\n",
              "small_business          5656\n",
              "car                     4670\n",
              "medical                 4175\n",
              "moving                  2842\n",
              "vacation                2442\n",
              "house                   2197\n",
              "wedding                 1794\n",
              "renewable_energy         329\n",
              "educational              246\n",
              "Name: purpose, dtype: int64"
            ]
          },
          "metadata": {},
          "execution_count": 65
        }
      ],
      "id": "K1un9kt8kgvv"
    },
    {
      "cell_type": "code",
      "source": [
        "df = pd.get_dummies(df, columns=['purpose'], drop_first=True)"
      ],
      "metadata": {
        "id": "rvmTq_6Rkgvw"
      },
      "execution_count": null,
      "outputs": [],
      "id": "rvmTq_6Rkgvw"
    },
    {
      "cell_type": "markdown",
      "source": [
        "> **home_ownership**"
      ],
      "metadata": {
        "id": "nXMijy-vlJBF"
      },
      "id": "nXMijy-vlJBF"
    },
    {
      "cell_type": "code",
      "source": [
        "df.home_ownership.value_counts()"
      ],
      "metadata": {
        "colab": {
          "base_uri": "https://localhost:8080/"
        },
        "outputId": "04a89232-3d29-4feb-e317-c40ae81c431f",
        "id": "3WbBG_6flJBi"
      },
      "execution_count": null,
      "outputs": [
        {
          "output_type": "execute_result",
          "data": {
            "text/plain": [
              "MORTGAGE    198022\n",
              "RENT        159395\n",
              "OWN          37660\n",
              "OTHER          110\n",
              "NONE            29\n",
              "ANY              3\n",
              "Name: home_ownership, dtype: int64"
            ]
          },
          "metadata": {},
          "execution_count": 67
        }
      ],
      "id": "3WbBG_6flJBi"
    },
    {
      "cell_type": "code",
      "source": [
        "df['home_ownership'] = df['home_ownership'].replace(['NONE', 'ANY'], 'OTHER')"
      ],
      "metadata": {
        "id": "EZwRtNMYlgwG"
      },
      "id": "EZwRtNMYlgwG",
      "execution_count": null,
      "outputs": []
    },
    {
      "cell_type": "code",
      "source": [
        "df.home_ownership.value_counts()"
      ],
      "metadata": {
        "id": "b1fj9g0gl6rt",
        "outputId": "9e463ddd-0e55-4dab-c777-342bf6e8dce8",
        "colab": {
          "base_uri": "https://localhost:8080/"
        }
      },
      "id": "b1fj9g0gl6rt",
      "execution_count": null,
      "outputs": [
        {
          "output_type": "execute_result",
          "data": {
            "text/plain": [
              "MORTGAGE    198022\n",
              "RENT        159395\n",
              "OWN          37660\n",
              "OTHER          142\n",
              "Name: home_ownership, dtype: int64"
            ]
          },
          "metadata": {},
          "execution_count": 69
        }
      ]
    },
    {
      "cell_type": "code",
      "source": [
        "df = pd.get_dummies(df, columns=['home_ownership'], drop_first=True)"
      ],
      "metadata": {
        "id": "QZPgLm-eThQc"
      },
      "id": "QZPgLm-eThQc",
      "execution_count": null,
      "outputs": []
    },
    {
      "cell_type": "markdown",
      "source": [
        "> **address**"
      ],
      "metadata": {
        "id": "jorne_mET9jI"
      },
      "id": "jorne_mET9jI"
    },
    {
      "cell_type": "code",
      "source": [
        "df.address.head()"
      ],
      "metadata": {
        "colab": {
          "base_uri": "https://localhost:8080/"
        },
        "id": "B_9VUdfYUACX",
        "outputId": "ddcd9324-7c7c-4c6e-bb5b-ad048ff567dc"
      },
      "id": "B_9VUdfYUACX",
      "execution_count": null,
      "outputs": [
        {
          "output_type": "execute_result",
          "data": {
            "text/plain": [
              "0       0174 Michelle Gateway\\r\\nMendozaberg, OK 22690\n",
              "1    1076 Carney Fort Apt. 347\\r\\nLoganmouth, SD 05113\n",
              "2    87025 Mark Dale Apt. 269\\r\\nNew Sabrina, WV 05113\n",
              "3              823 Reid Ford\\r\\nDelacruzside, MA 00813\n",
              "4               679 Luna Roads\\r\\nGreggshire, VA 11650\n",
              "Name: address, dtype: object"
            ]
          },
          "metadata": {},
          "execution_count": 71
        }
      ]
    },
    {
      "cell_type": "code",
      "source": [
        "# last 5 digits are zip codes. we create another column called 'zip_code'\n",
        "df['zip_code'] = df['address'].apply(lambda address: address[-5:])"
      ],
      "metadata": {
        "id": "6ZWlrqBQUFxw"
      },
      "id": "6ZWlrqBQUFxw",
      "execution_count": null,
      "outputs": []
    },
    {
      "cell_type": "code",
      "source": [
        "df.zip_code.value_counts()"
      ],
      "metadata": {
        "colab": {
          "base_uri": "https://localhost:8080/"
        },
        "id": "iHdof67RU58K",
        "outputId": "6641fe37-c9df-41ba-b4a1-ad43a3144890"
      },
      "id": "iHdof67RU58K",
      "execution_count": null,
      "outputs": [
        {
          "output_type": "execute_result",
          "data": {
            "text/plain": [
              "70466    56880\n",
              "22690    56413\n",
              "30723    56402\n",
              "48052    55811\n",
              "00813    45725\n",
              "29597    45393\n",
              "05113    45300\n",
              "11650    11210\n",
              "93700    11126\n",
              "86630    10959\n",
              "Name: zip_code, dtype: int64"
            ]
          },
          "metadata": {},
          "execution_count": 73
        }
      ]
    },
    {
      "cell_type": "code",
      "source": [
        "df = pd.get_dummies(df, columns=['zip_code'], drop_first=True)"
      ],
      "metadata": {
        "id": "piLYfl-YVADm"
      },
      "id": "piLYfl-YVADm",
      "execution_count": null,
      "outputs": []
    },
    {
      "cell_type": "code",
      "source": [
        "df.drop(columns=['address'], inplace=True)"
      ],
      "metadata": {
        "id": "6H8YWGRGVF2-"
      },
      "id": "6H8YWGRGVF2-",
      "execution_count": null,
      "outputs": []
    },
    {
      "cell_type": "markdown",
      "source": [
        "> **issue_d**"
      ],
      "metadata": {
        "id": "tQPAHNSGVbrH"
      },
      "id": "tQPAHNSGVbrH"
    },
    {
      "cell_type": "code",
      "source": [
        "# issue date is data leakage. we want to predict loan repayment and base on that decide to loan someone or not. so we drop it.\n",
        "df.drop(columns=['issue_d'], inplace=True)"
      ],
      "metadata": {
        "id": "9IMMA237ViR9"
      },
      "id": "9IMMA237ViR9",
      "execution_count": null,
      "outputs": []
    },
    {
      "cell_type": "markdown",
      "source": [
        "> **earliest_cr_line**"
      ],
      "metadata": {
        "id": "wYEcS_xmXIjf"
      },
      "id": "wYEcS_xmXIjf"
    },
    {
      "cell_type": "code",
      "source": [
        "df.earliest_cr_line.head()"
      ],
      "metadata": {
        "colab": {
          "base_uri": "https://localhost:8080/"
        },
        "id": "5HECDpbuXQ5r",
        "outputId": "1a2f5870-5a86-47d6-f463-ec5f114df981"
      },
      "id": "5HECDpbuXQ5r",
      "execution_count": null,
      "outputs": [
        {
          "output_type": "execute_result",
          "data": {
            "text/plain": [
              "0    Jun-1990\n",
              "1    Jul-2004\n",
              "2    Aug-2007\n",
              "3    Sep-2006\n",
              "4    Mar-1999\n",
              "Name: earliest_cr_line, dtype: object"
            ]
          },
          "metadata": {},
          "execution_count": 77
        }
      ]
    },
    {
      "cell_type": "code",
      "source": [
        "df['earliest_cr_line'] = df['earliest_cr_line'].apply(lambda date: int(date[-4:]))"
      ],
      "metadata": {
        "id": "OJbRoWL_Xmxz"
      },
      "id": "OJbRoWL_Xmxz",
      "execution_count": null,
      "outputs": []
    },
    {
      "cell_type": "code",
      "source": [
        "df.select_dtypes(['object']).columns"
      ],
      "metadata": {
        "id": "8BvK6GHLZik3",
        "outputId": "e0a9ef2c-e5b0-4433-fb9e-354589120288",
        "colab": {
          "base_uri": "https://localhost:8080/"
        }
      },
      "id": "8BvK6GHLZik3",
      "execution_count": null,
      "outputs": [
        {
          "output_type": "execute_result",
          "data": {
            "text/plain": [
              "Index(['loan_status'], dtype='object')"
            ]
          },
          "metadata": {},
          "execution_count": 79
        }
      ]
    },
    {
      "cell_type": "markdown",
      "metadata": {
        "id": "9963609b-f084-4ea1-ade0-d6d43fb39a1f"
      },
      "source": [
        "## 6. Check Correlations"
      ],
      "id": "9963609b-f084-4ea1-ade0-d6d43fb39a1f"
    },
    {
      "cell_type": "code",
      "execution_count": null,
      "metadata": {
        "id": "PnHCyvUhtQwY"
      },
      "outputs": [],
      "source": [
        "df.drop(columns=['loan_status'], inplace=True)"
      ],
      "id": "PnHCyvUhtQwY"
    },
    {
      "cell_type": "code",
      "execution_count": null,
      "metadata": {
        "id": "ddfa3a14-c696-4803-b8e6-d230684c2480",
        "colab": {
          "base_uri": "https://localhost:8080/",
          "height": 1000
        },
        "outputId": "bca5f952-2c37-4953-e18b-9708fceb2b90"
      },
      "outputs": [
        {
          "output_type": "execute_result",
          "data": {
            "text/plain": [
              "<pandas.io.formats.style.Styler at 0x7fbb664d0340>"
            ],
            "text/html": [
              "<style type=\"text/css\">\n",
              "#T_cbd5a_row0_col0, #T_cbd5a_row35_col0, #T_cbd5a_row36_col0, #T_cbd5a_row37_col0 {\n",
              "  background-color: #d0edca;\n",
              "  color: #000000;\n",
              "}\n",
              "#T_cbd5a_row1_col0 {\n",
              "  background-color: #e5f5e0;\n",
              "  color: #000000;\n",
              "}\n",
              "#T_cbd5a_row2_col0 {\n",
              "  background-color: #edf8e9;\n",
              "  color: #000000;\n",
              "}\n",
              "#T_cbd5a_row3_col0, #T_cbd5a_row6_col0, #T_cbd5a_row30_col0, #T_cbd5a_row31_col0 {\n",
              "  background-color: #ccebc6;\n",
              "  color: #000000;\n",
              "}\n",
              "#T_cbd5a_row4_col0, #T_cbd5a_row21_col0 {\n",
              "  background-color: #bae3b3;\n",
              "  color: #000000;\n",
              "}\n",
              "#T_cbd5a_row5_col0, #T_cbd5a_row69_col0 {\n",
              "  background-color: #d1edcb;\n",
              "  color: #000000;\n",
              "}\n",
              "#T_cbd5a_row7_col0, #T_cbd5a_row28_col0, #T_cbd5a_row46_col0, #T_cbd5a_row64_col0 {\n",
              "  background-color: #cbeac4;\n",
              "  color: #000000;\n",
              "}\n",
              "#T_cbd5a_row8_col0, #T_cbd5a_row47_col0 {\n",
              "  background-color: #c9eac2;\n",
              "  color: #000000;\n",
              "}\n",
              "#T_cbd5a_row9_col0 {\n",
              "  background-color: #c3e7bc;\n",
              "  color: #000000;\n",
              "}\n",
              "#T_cbd5a_row10_col0 {\n",
              "  background-color: #d4eece;\n",
              "  color: #000000;\n",
              "}\n",
              "#T_cbd5a_row11_col0 {\n",
              "  background-color: #c1e6ba;\n",
              "  color: #000000;\n",
              "}\n",
              "#T_cbd5a_row12_col0, #T_cbd5a_row17_col0 {\n",
              "  background-color: #b6e2af;\n",
              "  color: #000000;\n",
              "}\n",
              "#T_cbd5a_row13_col0, #T_cbd5a_row60_col0, #T_cbd5a_row61_col0, #T_cbd5a_row68_col0 {\n",
              "  background-color: #c7e9c0;\n",
              "  color: #000000;\n",
              "}\n",
              "#T_cbd5a_row14_col0 {\n",
              "  background-color: #00441b;\n",
              "  color: #f1f1f1;\n",
              "}\n",
              "#T_cbd5a_row15_col0, #T_cbd5a_row16_col0, #T_cbd5a_row19_col0, #T_cbd5a_row20_col0 {\n",
              "  background-color: #b8e3b2;\n",
              "  color: #000000;\n",
              "}\n",
              "#T_cbd5a_row18_col0 {\n",
              "  background-color: #b7e2b1;\n",
              "  color: #000000;\n",
              "}\n",
              "#T_cbd5a_row22_col0 {\n",
              "  background-color: #bce4b5;\n",
              "  color: #000000;\n",
              "}\n",
              "#T_cbd5a_row23_col0 {\n",
              "  background-color: #c0e6b9;\n",
              "  color: #000000;\n",
              "}\n",
              "#T_cbd5a_row24_col0, #T_cbd5a_row57_col0, #T_cbd5a_row59_col0, #T_cbd5a_row66_col0 {\n",
              "  background-color: #c2e7bb;\n",
              "  color: #000000;\n",
              "}\n",
              "#T_cbd5a_row25_col0, #T_cbd5a_row58_col0, #T_cbd5a_row63_col0, #T_cbd5a_row75_col0, #T_cbd5a_row76_col0 {\n",
              "  background-color: #c6e8bf;\n",
              "  color: #000000;\n",
              "}\n",
              "#T_cbd5a_row26_col0, #T_cbd5a_row53_col0, #T_cbd5a_row62_col0 {\n",
              "  background-color: #c8e9c1;\n",
              "  color: #000000;\n",
              "}\n",
              "#T_cbd5a_row27_col0, #T_cbd5a_row48_col0 {\n",
              "  background-color: #caeac3;\n",
              "  color: #000000;\n",
              "}\n",
              "#T_cbd5a_row29_col0, #T_cbd5a_row44_col0, #T_cbd5a_row45_col0, #T_cbd5a_row49_col0, #T_cbd5a_row55_col0 {\n",
              "  background-color: #cbebc5;\n",
              "  color: #000000;\n",
              "}\n",
              "#T_cbd5a_row32_col0, #T_cbd5a_row33_col0, #T_cbd5a_row40_col0, #T_cbd5a_row50_col0 {\n",
              "  background-color: #ceecc8;\n",
              "  color: #000000;\n",
              "}\n",
              "#T_cbd5a_row34_col0, #T_cbd5a_row38_col0 {\n",
              "  background-color: #cfecc9;\n",
              "  color: #000000;\n",
              "}\n",
              "#T_cbd5a_row39_col0, #T_cbd5a_row41_col0, #T_cbd5a_row42_col0, #T_cbd5a_row43_col0 {\n",
              "  background-color: #cdecc7;\n",
              "  color: #000000;\n",
              "}\n",
              "#T_cbd5a_row51_col0, #T_cbd5a_row52_col0, #T_cbd5a_row56_col0, #T_cbd5a_row65_col0, #T_cbd5a_row67_col0, #T_cbd5a_row72_col0, #T_cbd5a_row74_col0 {\n",
              "  background-color: #c4e8bd;\n",
              "  color: #000000;\n",
              "}\n",
              "#T_cbd5a_row54_col0 {\n",
              "  background-color: #bde5b6;\n",
              "  color: #000000;\n",
              "}\n",
              "#T_cbd5a_row70_col0, #T_cbd5a_row73_col0 {\n",
              "  background-color: #9cd797;\n",
              "  color: #000000;\n",
              "}\n",
              "#T_cbd5a_row71_col0, #T_cbd5a_row77_col0, #T_cbd5a_row78_col0 {\n",
              "  background-color: #f7fcf5;\n",
              "  color: #000000;\n",
              "}\n",
              "</style>\n",
              "<table id=\"T_cbd5a\" class=\"dataframe\">\n",
              "  <thead>\n",
              "    <tr>\n",
              "      <th class=\"blank level0\" >&nbsp;</th>\n",
              "      <th id=\"T_cbd5a_level0_col0\" class=\"col_heading level0 col0\" >Target</th>\n",
              "    </tr>\n",
              "  </thead>\n",
              "  <tbody>\n",
              "    <tr>\n",
              "      <th id=\"T_cbd5a_level0_row0\" class=\"row_heading level0 row0\" >loan_amnt</th>\n",
              "      <td id=\"T_cbd5a_row0_col0\" class=\"data row0 col0\" >-0.059731</td>\n",
              "    </tr>\n",
              "    <tr>\n",
              "      <th id=\"T_cbd5a_level0_row1\" class=\"row_heading level0 row1\" >term</th>\n",
              "      <td id=\"T_cbd5a_row1_col0\" class=\"data row1 col0\" >-0.173374</td>\n",
              "    </tr>\n",
              "    <tr>\n",
              "      <th id=\"T_cbd5a_level0_row2\" class=\"row_heading level0 row2\" >int_rate</th>\n",
              "      <td id=\"T_cbd5a_row2_col0\" class=\"data row2 col0\" >-0.247826</td>\n",
              "    </tr>\n",
              "    <tr>\n",
              "      <th id=\"T_cbd5a_level0_row3\" class=\"row_heading level0 row3\" >installment</th>\n",
              "      <td id=\"T_cbd5a_row3_col0\" class=\"data row3 col0\" >-0.040936</td>\n",
              "    </tr>\n",
              "    <tr>\n",
              "      <th id=\"T_cbd5a_level0_row4\" class=\"row_heading level0 row4\" >annual_inc</th>\n",
              "      <td id=\"T_cbd5a_row4_col0\" class=\"data row4 col0\" >0.053545</td>\n",
              "    </tr>\n",
              "    <tr>\n",
              "      <th id=\"T_cbd5a_level0_row5\" class=\"row_heading level0 row5\" >dti</th>\n",
              "      <td id=\"T_cbd5a_row5_col0\" class=\"data row5 col0\" >-0.062390</td>\n",
              "    </tr>\n",
              "    <tr>\n",
              "      <th id=\"T_cbd5a_level0_row6\" class=\"row_heading level0 row6\" >earliest_cr_line</th>\n",
              "      <td id=\"T_cbd5a_row6_col0\" class=\"data row6 col0\" >-0.038907</td>\n",
              "    </tr>\n",
              "    <tr>\n",
              "      <th id=\"T_cbd5a_level0_row7\" class=\"row_heading level0 row7\" >open_acc</th>\n",
              "      <td id=\"T_cbd5a_row7_col0\" class=\"data row7 col0\" >-0.028134</td>\n",
              "    </tr>\n",
              "    <tr>\n",
              "      <th id=\"T_cbd5a_level0_row8\" class=\"row_heading level0 row8\" >pub_rec</th>\n",
              "      <td id=\"T_cbd5a_row8_col0\" class=\"data row8 col0\" >-0.019900</td>\n",
              "    </tr>\n",
              "    <tr>\n",
              "      <th id=\"T_cbd5a_level0_row9\" class=\"row_heading level0 row9\" >revol_bal</th>\n",
              "      <td id=\"T_cbd5a_row9_col0\" class=\"data row9 col0\" >0.010793</td>\n",
              "    </tr>\n",
              "    <tr>\n",
              "      <th id=\"T_cbd5a_level0_row10\" class=\"row_heading level0 row10\" >revol_util</th>\n",
              "      <td id=\"T_cbd5a_row10_col0\" class=\"data row10 col0\" >-0.082296</td>\n",
              "    </tr>\n",
              "    <tr>\n",
              "      <th id=\"T_cbd5a_level0_row11\" class=\"row_heading level0 row11\" >total_acc</th>\n",
              "      <td id=\"T_cbd5a_row11_col0\" class=\"data row11 col0\" >0.017852</td>\n",
              "    </tr>\n",
              "    <tr>\n",
              "      <th id=\"T_cbd5a_level0_row12\" class=\"row_heading level0 row12\" >mort_acc</th>\n",
              "      <td id=\"T_cbd5a_row12_col0\" class=\"data row12 col0\" >0.068861</td>\n",
              "    </tr>\n",
              "    <tr>\n",
              "      <th id=\"T_cbd5a_level0_row13\" class=\"row_heading level0 row13\" >pub_rec_bankruptcies</th>\n",
              "      <td id=\"T_cbd5a_row13_col0\" class=\"data row13 col0\" >-0.009403</td>\n",
              "    </tr>\n",
              "    <tr>\n",
              "      <th id=\"T_cbd5a_level0_row14\" class=\"row_heading level0 row14\" >Target</th>\n",
              "      <td id=\"T_cbd5a_row14_col0\" class=\"data row14 col0\" >1.000000</td>\n",
              "    </tr>\n",
              "    <tr>\n",
              "      <th id=\"T_cbd5a_level0_row15\" class=\"row_heading level0 row15\" >sub_grade_A2</th>\n",
              "      <td id=\"T_cbd5a_row15_col0\" class=\"data row15 col0\" >0.058588</td>\n",
              "    </tr>\n",
              "    <tr>\n",
              "      <th id=\"T_cbd5a_level0_row16\" class=\"row_heading level0 row16\" >sub_grade_A3</th>\n",
              "      <td id=\"T_cbd5a_row16_col0\" class=\"data row16 col0\" >0.057548</td>\n",
              "    </tr>\n",
              "    <tr>\n",
              "      <th id=\"T_cbd5a_level0_row17\" class=\"row_heading level0 row17\" >sub_grade_A4</th>\n",
              "      <td id=\"T_cbd5a_row17_col0\" class=\"data row17 col0\" >0.064602</td>\n",
              "    </tr>\n",
              "    <tr>\n",
              "      <th id=\"T_cbd5a_level0_row18\" class=\"row_heading level0 row18\" >sub_grade_A5</th>\n",
              "      <td id=\"T_cbd5a_row18_col0\" class=\"data row18 col0\" >0.062046</td>\n",
              "    </tr>\n",
              "    <tr>\n",
              "      <th id=\"T_cbd5a_level0_row19\" class=\"row_heading level0 row19\" >sub_grade_B1</th>\n",
              "      <td id=\"T_cbd5a_row19_col0\" class=\"data row19 col0\" >0.055458</td>\n",
              "    </tr>\n",
              "    <tr>\n",
              "      <th id=\"T_cbd5a_level0_row20\" class=\"row_heading level0 row20\" >sub_grade_B2</th>\n",
              "      <td id=\"T_cbd5a_row20_col0\" class=\"data row20 col0\" >0.054224</td>\n",
              "    </tr>\n",
              "    <tr>\n",
              "      <th id=\"T_cbd5a_level0_row21\" class=\"row_heading level0 row21\" >sub_grade_B3</th>\n",
              "      <td id=\"T_cbd5a_row21_col0\" class=\"data row21 col0\" >0.049273</td>\n",
              "    </tr>\n",
              "    <tr>\n",
              "      <th id=\"T_cbd5a_level0_row22\" class=\"row_heading level0 row22\" >sub_grade_B4</th>\n",
              "      <td id=\"T_cbd5a_row22_col0\" class=\"data row22 col0\" >0.038196</td>\n",
              "    </tr>\n",
              "    <tr>\n",
              "      <th id=\"T_cbd5a_level0_row23\" class=\"row_heading level0 row23\" >sub_grade_B5</th>\n",
              "      <td id=\"T_cbd5a_row23_col0\" class=\"data row23 col0\" >0.025165</td>\n",
              "    </tr>\n",
              "    <tr>\n",
              "      <th id=\"T_cbd5a_level0_row24\" class=\"row_heading level0 row24\" >sub_grade_C1</th>\n",
              "      <td id=\"T_cbd5a_row24_col0\" class=\"data row24 col0\" >0.014195</td>\n",
              "    </tr>\n",
              "    <tr>\n",
              "      <th id=\"T_cbd5a_level0_row25\" class=\"row_heading level0 row25\" >sub_grade_C2</th>\n",
              "      <td id=\"T_cbd5a_row25_col0\" class=\"data row25 col0\" >-0.000812</td>\n",
              "    </tr>\n",
              "    <tr>\n",
              "      <th id=\"T_cbd5a_level0_row26\" class=\"row_heading level0 row26\" >sub_grade_C3</th>\n",
              "      <td id=\"T_cbd5a_row26_col0\" class=\"data row26 col0\" >-0.013437</td>\n",
              "    </tr>\n",
              "    <tr>\n",
              "      <th id=\"T_cbd5a_level0_row27\" class=\"row_heading level0 row27\" >sub_grade_C4</th>\n",
              "      <td id=\"T_cbd5a_row27_col0\" class=\"data row27 col0\" >-0.022999</td>\n",
              "    </tr>\n",
              "    <tr>\n",
              "      <th id=\"T_cbd5a_level0_row28\" class=\"row_heading level0 row28\" >sub_grade_C5</th>\n",
              "      <td id=\"T_cbd5a_row28_col0\" class=\"data row28 col0\" >-0.027050</td>\n",
              "    </tr>\n",
              "    <tr>\n",
              "      <th id=\"T_cbd5a_level0_row29\" class=\"row_heading level0 row29\" >sub_grade_D1</th>\n",
              "      <td id=\"T_cbd5a_row29_col0\" class=\"data row29 col0\" >-0.034971</td>\n",
              "    </tr>\n",
              "    <tr>\n",
              "      <th id=\"T_cbd5a_level0_row30\" class=\"row_heading level0 row30\" >sub_grade_D2</th>\n",
              "      <td id=\"T_cbd5a_row30_col0\" class=\"data row30 col0\" >-0.040530</td>\n",
              "    </tr>\n",
              "    <tr>\n",
              "      <th id=\"T_cbd5a_level0_row31\" class=\"row_heading level0 row31\" >sub_grade_D3</th>\n",
              "      <td id=\"T_cbd5a_row31_col0\" class=\"data row31 col0\" >-0.039600</td>\n",
              "    </tr>\n",
              "    <tr>\n",
              "      <th id=\"T_cbd5a_level0_row32\" class=\"row_heading level0 row32\" >sub_grade_D4</th>\n",
              "      <td id=\"T_cbd5a_row32_col0\" class=\"data row32 col0\" >-0.050449</td>\n",
              "    </tr>\n",
              "    <tr>\n",
              "      <th id=\"T_cbd5a_level0_row33\" class=\"row_heading level0 row33\" >sub_grade_D5</th>\n",
              "      <td id=\"T_cbd5a_row33_col0\" class=\"data row33 col0\" >-0.049561</td>\n",
              "    </tr>\n",
              "    <tr>\n",
              "      <th id=\"T_cbd5a_level0_row34\" class=\"row_heading level0 row34\" >sub_grade_E1</th>\n",
              "      <td id=\"T_cbd5a_row34_col0\" class=\"data row34 col0\" >-0.053211</td>\n",
              "    </tr>\n",
              "    <tr>\n",
              "      <th id=\"T_cbd5a_level0_row35\" class=\"row_heading level0 row35\" >sub_grade_E2</th>\n",
              "      <td id=\"T_cbd5a_row35_col0\" class=\"data row35 col0\" >-0.059687</td>\n",
              "    </tr>\n",
              "    <tr>\n",
              "      <th id=\"T_cbd5a_level0_row36\" class=\"row_heading level0 row36\" >sub_grade_E3</th>\n",
              "      <td id=\"T_cbd5a_row36_col0\" class=\"data row36 col0\" >-0.058663</td>\n",
              "    </tr>\n",
              "    <tr>\n",
              "      <th id=\"T_cbd5a_level0_row37\" class=\"row_heading level0 row37\" >sub_grade_E4</th>\n",
              "      <td id=\"T_cbd5a_row37_col0\" class=\"data row37 col0\" >-0.058142</td>\n",
              "    </tr>\n",
              "    <tr>\n",
              "      <th id=\"T_cbd5a_level0_row38\" class=\"row_heading level0 row38\" >sub_grade_E5</th>\n",
              "      <td id=\"T_cbd5a_row38_col0\" class=\"data row38 col0\" >-0.056281</td>\n",
              "    </tr>\n",
              "    <tr>\n",
              "      <th id=\"T_cbd5a_level0_row39\" class=\"row_heading level0 row39\" >sub_grade_F1</th>\n",
              "      <td id=\"T_cbd5a_row39_col0\" class=\"data row39 col0\" >-0.045755</td>\n",
              "    </tr>\n",
              "    <tr>\n",
              "      <th id=\"T_cbd5a_level0_row40\" class=\"row_heading level0 row40\" >sub_grade_F2</th>\n",
              "      <td id=\"T_cbd5a_row40_col0\" class=\"data row40 col0\" >-0.048272</td>\n",
              "    </tr>\n",
              "    <tr>\n",
              "      <th id=\"T_cbd5a_level0_row41\" class=\"row_heading level0 row41\" >sub_grade_F3</th>\n",
              "      <td id=\"T_cbd5a_row41_col0\" class=\"data row41 col0\" >-0.045831</td>\n",
              "    </tr>\n",
              "    <tr>\n",
              "      <th id=\"T_cbd5a_level0_row42\" class=\"row_heading level0 row42\" >sub_grade_F4</th>\n",
              "      <td id=\"T_cbd5a_row42_col0\" class=\"data row42 col0\" >-0.044174</td>\n",
              "    </tr>\n",
              "    <tr>\n",
              "      <th id=\"T_cbd5a_level0_row43\" class=\"row_heading level0 row43\" >sub_grade_F5</th>\n",
              "      <td id=\"T_cbd5a_row43_col0\" class=\"data row43 col0\" >-0.043554</td>\n",
              "    </tr>\n",
              "    <tr>\n",
              "      <th id=\"T_cbd5a_level0_row44\" class=\"row_heading level0 row44\" >sub_grade_G1</th>\n",
              "      <td id=\"T_cbd5a_row44_col0\" class=\"data row44 col0\" >-0.034628</td>\n",
              "    </tr>\n",
              "    <tr>\n",
              "      <th id=\"T_cbd5a_level0_row45\" class=\"row_heading level0 row45\" >sub_grade_G2</th>\n",
              "      <td id=\"T_cbd5a_row45_col0\" class=\"data row45 col0\" >-0.031363</td>\n",
              "    </tr>\n",
              "    <tr>\n",
              "      <th id=\"T_cbd5a_level0_row46\" class=\"row_heading level0 row46\" >sub_grade_G3</th>\n",
              "      <td id=\"T_cbd5a_row46_col0\" class=\"data row46 col0\" >-0.029641</td>\n",
              "    </tr>\n",
              "    <tr>\n",
              "      <th id=\"T_cbd5a_level0_row47\" class=\"row_heading level0 row47\" >sub_grade_G4</th>\n",
              "      <td id=\"T_cbd5a_row47_col0\" class=\"data row47 col0\" >-0.019606</td>\n",
              "    </tr>\n",
              "    <tr>\n",
              "      <th id=\"T_cbd5a_level0_row48\" class=\"row_heading level0 row48\" >sub_grade_G5</th>\n",
              "      <td id=\"T_cbd5a_row48_col0\" class=\"data row48 col0\" >-0.021882</td>\n",
              "    </tr>\n",
              "    <tr>\n",
              "      <th id=\"T_cbd5a_level0_row49\" class=\"row_heading level0 row49\" >verification_status_Source Verified</th>\n",
              "      <td id=\"T_cbd5a_row49_col0\" class=\"data row49 col0\" >-0.033051</td>\n",
              "    </tr>\n",
              "    <tr>\n",
              "      <th id=\"T_cbd5a_level0_row50\" class=\"row_heading level0 row50\" >verification_status_Verified</th>\n",
              "      <td id=\"T_cbd5a_row50_col0\" class=\"data row50 col0\" >-0.050251</td>\n",
              "    </tr>\n",
              "    <tr>\n",
              "      <th id=\"T_cbd5a_level0_row51\" class=\"row_heading level0 row51\" >application_type_INDIVIDUAL</th>\n",
              "      <td id=\"T_cbd5a_row51_col0\" class=\"data row51 col0\" >0.002486</td>\n",
              "    </tr>\n",
              "    <tr>\n",
              "      <th id=\"T_cbd5a_level0_row52\" class=\"row_heading level0 row52\" >application_type_JOINT</th>\n",
              "      <td id=\"T_cbd5a_row52_col0\" class=\"data row52 col0\" >0.005709</td>\n",
              "    </tr>\n",
              "    <tr>\n",
              "      <th id=\"T_cbd5a_level0_row53\" class=\"row_heading level0 row53\" >initial_list_status_w</th>\n",
              "      <td id=\"T_cbd5a_row53_col0\" class=\"data row53 col0\" >-0.009483</td>\n",
              "    </tr>\n",
              "    <tr>\n",
              "      <th id=\"T_cbd5a_level0_row54\" class=\"row_heading level0 row54\" >purpose_credit_card</th>\n",
              "      <td id=\"T_cbd5a_row54_col0\" class=\"data row54 col0\" >0.037582</td>\n",
              "    </tr>\n",
              "    <tr>\n",
              "      <th id=\"T_cbd5a_level0_row55\" class=\"row_heading level0 row55\" >purpose_debt_consolidation</th>\n",
              "      <td id=\"T_cbd5a_row55_col0\" class=\"data row55 col0\" >-0.034239</td>\n",
              "    </tr>\n",
              "    <tr>\n",
              "      <th id=\"T_cbd5a_level0_row56\" class=\"row_heading level0 row56\" >purpose_educational</th>\n",
              "      <td id=\"T_cbd5a_row56_col0\" class=\"data row56 col0\" >0.002109</td>\n",
              "    </tr>\n",
              "    <tr>\n",
              "      <th id=\"T_cbd5a_level0_row57\" class=\"row_heading level0 row57\" >purpose_home_improvement</th>\n",
              "      <td id=\"T_cbd5a_row57_col0\" class=\"data row57 col0\" >0.016661</td>\n",
              "    </tr>\n",
              "    <tr>\n",
              "      <th id=\"T_cbd5a_level0_row58\" class=\"row_heading level0 row58\" >purpose_house</th>\n",
              "      <td id=\"T_cbd5a_row58_col0\" class=\"data row58 col0\" >-0.000262</td>\n",
              "    </tr>\n",
              "    <tr>\n",
              "      <th id=\"T_cbd5a_level0_row59\" class=\"row_heading level0 row59\" >purpose_major_purchase</th>\n",
              "      <td id=\"T_cbd5a_row59_col0\" class=\"data row59 col0\" >0.011927</td>\n",
              "    </tr>\n",
              "    <tr>\n",
              "      <th id=\"T_cbd5a_level0_row60\" class=\"row_heading level0 row60\" >purpose_medical</th>\n",
              "      <td id=\"T_cbd5a_row60_col0\" class=\"data row60 col0\" >-0.005489</td>\n",
              "    </tr>\n",
              "    <tr>\n",
              "      <th id=\"T_cbd5a_level0_row61\" class=\"row_heading level0 row61\" >purpose_moving</th>\n",
              "      <td id=\"T_cbd5a_row61_col0\" class=\"data row61 col0\" >-0.008261</td>\n",
              "    </tr>\n",
              "    <tr>\n",
              "      <th id=\"T_cbd5a_level0_row62\" class=\"row_heading level0 row62\" >purpose_other</th>\n",
              "      <td id=\"T_cbd5a_row62_col0\" class=\"data row62 col0\" >-0.009653</td>\n",
              "    </tr>\n",
              "    <tr>\n",
              "      <th id=\"T_cbd5a_level0_row63\" class=\"row_heading level0 row63\" >purpose_renewable_energy</th>\n",
              "      <td id=\"T_cbd5a_row63_col0\" class=\"data row63 col0\" >-0.002754</td>\n",
              "    </tr>\n",
              "    <tr>\n",
              "      <th id=\"T_cbd5a_level0_row64\" class=\"row_heading level0 row64\" >purpose_small_business</th>\n",
              "      <td id=\"T_cbd5a_row64_col0\" class=\"data row64 col0\" >-0.029753</td>\n",
              "    </tr>\n",
              "    <tr>\n",
              "      <th id=\"T_cbd5a_level0_row65\" class=\"row_heading level0 row65\" >purpose_vacation</th>\n",
              "      <td id=\"T_cbd5a_row65_col0\" class=\"data row65 col0\" >0.001301</td>\n",
              "    </tr>\n",
              "    <tr>\n",
              "      <th id=\"T_cbd5a_level0_row66\" class=\"row_heading level0 row66\" >purpose_wedding</th>\n",
              "      <td id=\"T_cbd5a_row66_col0\" class=\"data row66 col0\" >0.012787</td>\n",
              "    </tr>\n",
              "    <tr>\n",
              "      <th id=\"T_cbd5a_level0_row67\" class=\"row_heading level0 row67\" >home_ownership_OTHER</th>\n",
              "      <td id=\"T_cbd5a_row67_col0\" class=\"data row67 col0\" >0.001632</td>\n",
              "    </tr>\n",
              "    <tr>\n",
              "      <th id=\"T_cbd5a_level0_row68\" class=\"row_heading level0 row68\" >home_ownership_OWN</th>\n",
              "      <td id=\"T_cbd5a_row68_col0\" class=\"data row68 col0\" >-0.008657</td>\n",
              "    </tr>\n",
              "    <tr>\n",
              "      <th id=\"T_cbd5a_level0_row69\" class=\"row_heading level0 row69\" >home_ownership_RENT</th>\n",
              "      <td id=\"T_cbd5a_row69_col0\" class=\"data row69 col0\" >-0.063249</td>\n",
              "    </tr>\n",
              "    <tr>\n",
              "      <th id=\"T_cbd5a_level0_row70\" class=\"row_heading level0 row70\" >zip_code_05113</th>\n",
              "      <td id=\"T_cbd5a_row70_col0\" class=\"data row70 col0\" >0.177736</td>\n",
              "    </tr>\n",
              "    <tr>\n",
              "      <th id=\"T_cbd5a_level0_row71\" class=\"row_heading level0 row71\" >zip_code_11650</th>\n",
              "      <td id=\"T_cbd5a_row71_col0\" class=\"data row71 col0\" >-0.345878</td>\n",
              "    </tr>\n",
              "    <tr>\n",
              "      <th id=\"T_cbd5a_level0_row72\" class=\"row_heading level0 row72\" >zip_code_22690</th>\n",
              "      <td id=\"T_cbd5a_row72_col0\" class=\"data row72 col0\" >0.002432</td>\n",
              "    </tr>\n",
              "    <tr>\n",
              "      <th id=\"T_cbd5a_level0_row73\" class=\"row_heading level0 row73\" >zip_code_29597</th>\n",
              "      <td id=\"T_cbd5a_row73_col0\" class=\"data row73 col0\" >0.177942</td>\n",
              "    </tr>\n",
              "    <tr>\n",
              "      <th id=\"T_cbd5a_level0_row74\" class=\"row_heading level0 row74\" >zip_code_30723</th>\n",
              "      <td id=\"T_cbd5a_row74_col0\" class=\"data row74 col0\" >0.001191</td>\n",
              "    </tr>\n",
              "    <tr>\n",
              "      <th id=\"T_cbd5a_level0_row75\" class=\"row_heading level0 row75\" >zip_code_48052</th>\n",
              "      <td id=\"T_cbd5a_row75_col0\" class=\"data row75 col0\" >-0.004072</td>\n",
              "    </tr>\n",
              "    <tr>\n",
              "      <th id=\"T_cbd5a_level0_row76\" class=\"row_heading level0 row76\" >zip_code_70466</th>\n",
              "      <td id=\"T_cbd5a_row76_col0\" class=\"data row76 col0\" >0.000529</td>\n",
              "    </tr>\n",
              "    <tr>\n",
              "      <th id=\"T_cbd5a_level0_row77\" class=\"row_heading level0 row77\" >zip_code_86630</th>\n",
              "      <td id=\"T_cbd5a_row77_col0\" class=\"data row77 col0\" >-0.341872</td>\n",
              "    </tr>\n",
              "    <tr>\n",
              "      <th id=\"T_cbd5a_level0_row78\" class=\"row_heading level0 row78\" >zip_code_93700</th>\n",
              "      <td id=\"T_cbd5a_row78_col0\" class=\"data row78 col0\" >-0.344542</td>\n",
              "    </tr>\n",
              "  </tbody>\n",
              "</table>\n"
            ]
          },
          "metadata": {},
          "execution_count": 81
        }
      ],
      "source": [
        "df.corr()[['Target']].style.background_gradient(cmap='Greens')"
      ],
      "id": "ddfa3a14-c696-4803-b8e6-d230684c2480"
    },
    {
      "cell_type": "markdown",
      "metadata": {
        "id": "2cd25f9e-b4e6-4887-aa0d-97b84a6fd951"
      },
      "source": [
        "## 6. Train_Test_Split"
      ],
      "id": "2cd25f9e-b4e6-4887-aa0d-97b84a6fd951"
    },
    {
      "cell_type": "code",
      "execution_count": null,
      "metadata": {
        "id": "bdb99751-5d0b-475a-af6e-acdd045407fd"
      },
      "outputs": [],
      "source": [
        "y = df.Target.values\n",
        "X = df.drop(columns=['Target']).values"
      ],
      "id": "bdb99751-5d0b-475a-af6e-acdd045407fd"
    },
    {
      "cell_type": "code",
      "execution_count": null,
      "metadata": {
        "id": "5b128b48-2d51-4c4f-b859-c6435bfcfc46"
      },
      "outputs": [],
      "source": [
        "X_train, X_val, y_train, y_val = train_test_split(X, y, test_size=0.2, random_state=42)"
      ],
      "id": "5b128b48-2d51-4c4f-b859-c6435bfcfc46"
    },
    {
      "cell_type": "markdown",
      "metadata": {
        "id": "nNSpfFyySxcX"
      },
      "source": [
        "## 7. Normalizing the Data"
      ],
      "id": "nNSpfFyySxcX"
    },
    {
      "cell_type": "code",
      "execution_count": null,
      "metadata": {
        "id": "--c14nQ3S8aT"
      },
      "outputs": [],
      "source": [
        "scaler = MinMaxScaler()"
      ],
      "id": "--c14nQ3S8aT"
    },
    {
      "cell_type": "code",
      "execution_count": null,
      "metadata": {
        "id": "jdvCiDtMTR95"
      },
      "outputs": [],
      "source": [
        "X_train = scaler.fit_transform(X_train)"
      ],
      "id": "jdvCiDtMTR95"
    },
    {
      "cell_type": "code",
      "execution_count": null,
      "metadata": {
        "id": "kMkEe163TcGU"
      },
      "outputs": [],
      "source": [
        "X_val = scaler.transform(X_val)"
      ],
      "id": "kMkEe163TcGU"
    },
    {
      "cell_type": "markdown",
      "metadata": {
        "id": "ce447809-5c8c-4e46-b71e-8c0862c161d9"
      },
      "source": [
        "## 8. Define, Fit Model"
      ],
      "id": "ce447809-5c8c-4e46-b71e-8c0862c161d9"
    },
    {
      "cell_type": "code",
      "execution_count": null,
      "metadata": {
        "id": "vZU-9CjRVbp0",
        "colab": {
          "base_uri": "https://localhost:8080/"
        },
        "outputId": "b59ba4e1-907a-4045-e250-b8020f4fcb55"
      },
      "outputs": [
        {
          "output_type": "execute_result",
          "data": {
            "text/plain": [
              "(316175, 78)"
            ]
          },
          "metadata": {},
          "execution_count": 87
        }
      ],
      "source": [
        "X_train.shape"
      ],
      "id": "vZU-9CjRVbp0"
    },
    {
      "cell_type": "code",
      "execution_count": null,
      "metadata": {
        "id": "6ef9508c-ceb1-44be-b40f-e147ae0c9856"
      },
      "outputs": [],
      "source": [
        "model = Sequential()\n",
        "\n",
        "model.add(Dense(78, activation='relu'))\n",
        "model.add(Dropout(0.2))\n",
        "\n",
        "model.add(Dense(39, activation='relu'))\n",
        "model.add(Dropout(0.2))\n",
        "\n",
        "model.add(Dense(19, activation='relu'))\n",
        "model.add(Dropout(0.2))\n",
        "\n",
        "\n",
        "model.add(Dense(1, activation='sigmoid'))\n",
        "\n",
        "model.compile(optimizer='adam', loss='binary_crossentropy')"
      ],
      "id": "6ef9508c-ceb1-44be-b40f-e147ae0c9856"
    },
    {
      "cell_type": "code",
      "execution_count": null,
      "metadata": {
        "colab": {
          "base_uri": "https://localhost:8080/"
        },
        "id": "a-dRJUZOYNJc",
        "outputId": "34ec7dda-1ddc-4f2d-d1b4-1477b336f906"
      },
      "outputs": [
        {
          "output_type": "stream",
          "name": "stdout",
          "text": [
            "Epoch 1/25\n",
            "1236/1236 [==============================] - 9s 5ms/step - loss: 0.2969 - val_loss: 0.2621\n",
            "Epoch 2/25\n",
            "1236/1236 [==============================] - 8s 6ms/step - loss: 0.2662 - val_loss: 0.2615\n",
            "Epoch 3/25\n",
            "1236/1236 [==============================] - 6s 5ms/step - loss: 0.2638 - val_loss: 0.2604\n",
            "Epoch 4/25\n",
            "1236/1236 [==============================] - 8s 6ms/step - loss: 0.2622 - val_loss: 0.2596\n",
            "Epoch 5/25\n",
            "1236/1236 [==============================] - 6s 5ms/step - loss: 0.2615 - val_loss: 0.2594\n",
            "Epoch 6/25\n",
            "1236/1236 [==============================] - 10s 8ms/step - loss: 0.2608 - val_loss: 0.2594\n",
            "Epoch 7/25\n",
            "1236/1236 [==============================] - 7s 5ms/step - loss: 0.2604 - val_loss: 0.2589\n",
            "Epoch 8/25\n",
            "1236/1236 [==============================] - 8s 7ms/step - loss: 0.2602 - val_loss: 0.2591\n",
            "Epoch 9/25\n",
            "1236/1236 [==============================] - 6s 5ms/step - loss: 0.2598 - val_loss: 0.2586\n",
            "Epoch 10/25\n",
            "1236/1236 [==============================] - 8s 6ms/step - loss: 0.2595 - val_loss: 0.2593\n",
            "Epoch 11/25\n",
            "1236/1236 [==============================] - 7s 5ms/step - loss: 0.2592 - val_loss: 0.2590\n",
            "Epoch 12/25\n",
            "1236/1236 [==============================] - 8s 7ms/step - loss: 0.2593 - val_loss: 0.2585\n",
            "Epoch 13/25\n",
            "1236/1236 [==============================] - 6s 5ms/step - loss: 0.2589 - val_loss: 0.2588\n",
            "Epoch 14/25\n",
            "1236/1236 [==============================] - 9s 7ms/step - loss: 0.2588 - val_loss: 0.2585\n",
            "Epoch 15/25\n",
            "1236/1236 [==============================] - 8s 6ms/step - loss: 0.2583 - val_loss: 0.2583\n",
            "Epoch 16/25\n",
            "1236/1236 [==============================] - 8s 6ms/step - loss: 0.2582 - val_loss: 0.2582\n",
            "Epoch 17/25\n",
            "1236/1236 [==============================] - 6s 5ms/step - loss: 0.2579 - val_loss: 0.2584\n",
            "Epoch 18/25\n",
            "1236/1236 [==============================] - 8s 6ms/step - loss: 0.2579 - val_loss: 0.2583\n",
            "Epoch 19/25\n",
            "1236/1236 [==============================] - 6s 5ms/step - loss: 0.2574 - val_loss: 0.2589\n",
            "Epoch 20/25\n",
            "1236/1236 [==============================] - 8s 7ms/step - loss: 0.2576 - val_loss: 0.2591\n",
            "Epoch 21/25\n",
            "1236/1236 [==============================] - 6s 5ms/step - loss: 0.2574 - val_loss: 0.2586\n",
            "Epoch 22/25\n",
            "1236/1236 [==============================] - 8s 7ms/step - loss: 0.2571 - val_loss: 0.2587\n",
            "Epoch 23/25\n",
            "1236/1236 [==============================] - 7s 5ms/step - loss: 0.2570 - val_loss: 0.2584\n",
            "Epoch 24/25\n",
            "1236/1236 [==============================] - 8s 7ms/step - loss: 0.2568 - val_loss: 0.2582\n",
            "Epoch 25/25\n",
            "1236/1236 [==============================] - 6s 5ms/step - loss: 0.2565 - val_loss: 0.2589\n"
          ]
        },
        {
          "output_type": "execute_result",
          "data": {
            "text/plain": [
              "<keras.callbacks.History at 0x7fbb5bfd2d90>"
            ]
          },
          "metadata": {},
          "execution_count": 89
        }
      ],
      "source": [
        "model.fit(x=X_train, y=y_train,\n",
        "          validation_data=(X_val, y_val),\n",
        "          epochs=25, batch_size=256)"
      ],
      "id": "a-dRJUZOYNJc"
    },
    {
      "cell_type": "code",
      "execution_count": null,
      "metadata": {
        "id": "1ce4407a-fa16-4f74-a2fd-cf2eac20eda7",
        "colab": {
          "base_uri": "https://localhost:8080/",
          "height": 834
        },
        "outputId": "82901694-bb9e-4a64-9969-526beb3da059"
      },
      "outputs": [
        {
          "output_type": "execute_result",
          "data": {
            "text/plain": [
              "        loss  val_loss\n",
              "0   0.296887  0.262131\n",
              "1   0.266158  0.261497\n",
              "2   0.263799  0.260368\n",
              "3   0.262234  0.259600\n",
              "4   0.261539  0.259426\n",
              "5   0.260810  0.259390\n",
              "6   0.260378  0.258915\n",
              "7   0.260231  0.259051\n",
              "8   0.259790  0.258609\n",
              "9   0.259528  0.259326\n",
              "10  0.259210  0.259028\n",
              "11  0.259319  0.258456\n",
              "12  0.258859  0.258830\n",
              "13  0.258752  0.258461\n",
              "14  0.258302  0.258299\n",
              "15  0.258191  0.258248\n",
              "16  0.257866  0.258440\n",
              "17  0.257881  0.258330\n",
              "18  0.257352  0.258872\n",
              "19  0.257562  0.259114\n",
              "20  0.257355  0.258595\n",
              "21  0.257146  0.258652\n",
              "22  0.256957  0.258364\n",
              "23  0.256753  0.258194\n",
              "24  0.256483  0.258946"
            ],
            "text/html": [
              "\n",
              "  <div id=\"df-a3a1e9e0-5016-46b7-b3b7-12499155f32f\">\n",
              "    <div class=\"colab-df-container\">\n",
              "      <div>\n",
              "<style scoped>\n",
              "    .dataframe tbody tr th:only-of-type {\n",
              "        vertical-align: middle;\n",
              "    }\n",
              "\n",
              "    .dataframe tbody tr th {\n",
              "        vertical-align: top;\n",
              "    }\n",
              "\n",
              "    .dataframe thead th {\n",
              "        text-align: right;\n",
              "    }\n",
              "</style>\n",
              "<table border=\"1\" class=\"dataframe\">\n",
              "  <thead>\n",
              "    <tr style=\"text-align: right;\">\n",
              "      <th></th>\n",
              "      <th>loss</th>\n",
              "      <th>val_loss</th>\n",
              "    </tr>\n",
              "  </thead>\n",
              "  <tbody>\n",
              "    <tr>\n",
              "      <th>0</th>\n",
              "      <td>0.296887</td>\n",
              "      <td>0.262131</td>\n",
              "    </tr>\n",
              "    <tr>\n",
              "      <th>1</th>\n",
              "      <td>0.266158</td>\n",
              "      <td>0.261497</td>\n",
              "    </tr>\n",
              "    <tr>\n",
              "      <th>2</th>\n",
              "      <td>0.263799</td>\n",
              "      <td>0.260368</td>\n",
              "    </tr>\n",
              "    <tr>\n",
              "      <th>3</th>\n",
              "      <td>0.262234</td>\n",
              "      <td>0.259600</td>\n",
              "    </tr>\n",
              "    <tr>\n",
              "      <th>4</th>\n",
              "      <td>0.261539</td>\n",
              "      <td>0.259426</td>\n",
              "    </tr>\n",
              "    <tr>\n",
              "      <th>5</th>\n",
              "      <td>0.260810</td>\n",
              "      <td>0.259390</td>\n",
              "    </tr>\n",
              "    <tr>\n",
              "      <th>6</th>\n",
              "      <td>0.260378</td>\n",
              "      <td>0.258915</td>\n",
              "    </tr>\n",
              "    <tr>\n",
              "      <th>7</th>\n",
              "      <td>0.260231</td>\n",
              "      <td>0.259051</td>\n",
              "    </tr>\n",
              "    <tr>\n",
              "      <th>8</th>\n",
              "      <td>0.259790</td>\n",
              "      <td>0.258609</td>\n",
              "    </tr>\n",
              "    <tr>\n",
              "      <th>9</th>\n",
              "      <td>0.259528</td>\n",
              "      <td>0.259326</td>\n",
              "    </tr>\n",
              "    <tr>\n",
              "      <th>10</th>\n",
              "      <td>0.259210</td>\n",
              "      <td>0.259028</td>\n",
              "    </tr>\n",
              "    <tr>\n",
              "      <th>11</th>\n",
              "      <td>0.259319</td>\n",
              "      <td>0.258456</td>\n",
              "    </tr>\n",
              "    <tr>\n",
              "      <th>12</th>\n",
              "      <td>0.258859</td>\n",
              "      <td>0.258830</td>\n",
              "    </tr>\n",
              "    <tr>\n",
              "      <th>13</th>\n",
              "      <td>0.258752</td>\n",
              "      <td>0.258461</td>\n",
              "    </tr>\n",
              "    <tr>\n",
              "      <th>14</th>\n",
              "      <td>0.258302</td>\n",
              "      <td>0.258299</td>\n",
              "    </tr>\n",
              "    <tr>\n",
              "      <th>15</th>\n",
              "      <td>0.258191</td>\n",
              "      <td>0.258248</td>\n",
              "    </tr>\n",
              "    <tr>\n",
              "      <th>16</th>\n",
              "      <td>0.257866</td>\n",
              "      <td>0.258440</td>\n",
              "    </tr>\n",
              "    <tr>\n",
              "      <th>17</th>\n",
              "      <td>0.257881</td>\n",
              "      <td>0.258330</td>\n",
              "    </tr>\n",
              "    <tr>\n",
              "      <th>18</th>\n",
              "      <td>0.257352</td>\n",
              "      <td>0.258872</td>\n",
              "    </tr>\n",
              "    <tr>\n",
              "      <th>19</th>\n",
              "      <td>0.257562</td>\n",
              "      <td>0.259114</td>\n",
              "    </tr>\n",
              "    <tr>\n",
              "      <th>20</th>\n",
              "      <td>0.257355</td>\n",
              "      <td>0.258595</td>\n",
              "    </tr>\n",
              "    <tr>\n",
              "      <th>21</th>\n",
              "      <td>0.257146</td>\n",
              "      <td>0.258652</td>\n",
              "    </tr>\n",
              "    <tr>\n",
              "      <th>22</th>\n",
              "      <td>0.256957</td>\n",
              "      <td>0.258364</td>\n",
              "    </tr>\n",
              "    <tr>\n",
              "      <th>23</th>\n",
              "      <td>0.256753</td>\n",
              "      <td>0.258194</td>\n",
              "    </tr>\n",
              "    <tr>\n",
              "      <th>24</th>\n",
              "      <td>0.256483</td>\n",
              "      <td>0.258946</td>\n",
              "    </tr>\n",
              "  </tbody>\n",
              "</table>\n",
              "</div>\n",
              "      <button class=\"colab-df-convert\" onclick=\"convertToInteractive('df-a3a1e9e0-5016-46b7-b3b7-12499155f32f')\"\n",
              "              title=\"Convert this dataframe to an interactive table.\"\n",
              "              style=\"display:none;\">\n",
              "        \n",
              "  <svg xmlns=\"http://www.w3.org/2000/svg\" height=\"24px\"viewBox=\"0 0 24 24\"\n",
              "       width=\"24px\">\n",
              "    <path d=\"M0 0h24v24H0V0z\" fill=\"none\"/>\n",
              "    <path d=\"M18.56 5.44l.94 2.06.94-2.06 2.06-.94-2.06-.94-.94-2.06-.94 2.06-2.06.94zm-11 1L8.5 8.5l.94-2.06 2.06-.94-2.06-.94L8.5 2.5l-.94 2.06-2.06.94zm10 10l.94 2.06.94-2.06 2.06-.94-2.06-.94-.94-2.06-.94 2.06-2.06.94z\"/><path d=\"M17.41 7.96l-1.37-1.37c-.4-.4-.92-.59-1.43-.59-.52 0-1.04.2-1.43.59L10.3 9.45l-7.72 7.72c-.78.78-.78 2.05 0 2.83L4 21.41c.39.39.9.59 1.41.59.51 0 1.02-.2 1.41-.59l7.78-7.78 2.81-2.81c.8-.78.8-2.07 0-2.86zM5.41 20L4 18.59l7.72-7.72 1.47 1.35L5.41 20z\"/>\n",
              "  </svg>\n",
              "      </button>\n",
              "      \n",
              "  <style>\n",
              "    .colab-df-container {\n",
              "      display:flex;\n",
              "      flex-wrap:wrap;\n",
              "      gap: 12px;\n",
              "    }\n",
              "\n",
              "    .colab-df-convert {\n",
              "      background-color: #E8F0FE;\n",
              "      border: none;\n",
              "      border-radius: 50%;\n",
              "      cursor: pointer;\n",
              "      display: none;\n",
              "      fill: #1967D2;\n",
              "      height: 32px;\n",
              "      padding: 0 0 0 0;\n",
              "      width: 32px;\n",
              "    }\n",
              "\n",
              "    .colab-df-convert:hover {\n",
              "      background-color: #E2EBFA;\n",
              "      box-shadow: 0px 1px 2px rgba(60, 64, 67, 0.3), 0px 1px 3px 1px rgba(60, 64, 67, 0.15);\n",
              "      fill: #174EA6;\n",
              "    }\n",
              "\n",
              "    [theme=dark] .colab-df-convert {\n",
              "      background-color: #3B4455;\n",
              "      fill: #D2E3FC;\n",
              "    }\n",
              "\n",
              "    [theme=dark] .colab-df-convert:hover {\n",
              "      background-color: #434B5C;\n",
              "      box-shadow: 0px 1px 3px 1px rgba(0, 0, 0, 0.15);\n",
              "      filter: drop-shadow(0px 1px 2px rgba(0, 0, 0, 0.3));\n",
              "      fill: #FFFFFF;\n",
              "    }\n",
              "  </style>\n",
              "\n",
              "      <script>\n",
              "        const buttonEl =\n",
              "          document.querySelector('#df-a3a1e9e0-5016-46b7-b3b7-12499155f32f button.colab-df-convert');\n",
              "        buttonEl.style.display =\n",
              "          google.colab.kernel.accessAllowed ? 'block' : 'none';\n",
              "\n",
              "        async function convertToInteractive(key) {\n",
              "          const element = document.querySelector('#df-a3a1e9e0-5016-46b7-b3b7-12499155f32f');\n",
              "          const dataTable =\n",
              "            await google.colab.kernel.invokeFunction('convertToInteractive',\n",
              "                                                     [key], {});\n",
              "          if (!dataTable) return;\n",
              "\n",
              "          const docLinkHtml = 'Like what you see? Visit the ' +\n",
              "            '<a target=\"_blank\" href=https://colab.research.google.com/notebooks/data_table.ipynb>data table notebook</a>'\n",
              "            + ' to learn more about interactive tables.';\n",
              "          element.innerHTML = '';\n",
              "          dataTable['output_type'] = 'display_data';\n",
              "          await google.colab.output.renderOutput(dataTable, element);\n",
              "          const docLink = document.createElement('div');\n",
              "          docLink.innerHTML = docLinkHtml;\n",
              "          element.appendChild(docLink);\n",
              "        }\n",
              "      </script>\n",
              "    </div>\n",
              "  </div>\n",
              "  "
            ]
          },
          "metadata": {},
          "execution_count": 90
        }
      ],
      "source": [
        "losses = pd.DataFrame(model.history.history)\n",
        "losses"
      ],
      "id": "1ce4407a-fa16-4f74-a2fd-cf2eac20eda7"
    },
    {
      "cell_type": "code",
      "execution_count": null,
      "metadata": {
        "id": "eAt2bPORIjjH",
        "colab": {
          "base_uri": "https://localhost:8080/",
          "height": 448
        },
        "outputId": "7f7e2aea-2fea-4076-b8bf-95c26ea8b34a"
      },
      "outputs": [
        {
          "output_type": "execute_result",
          "data": {
            "text/plain": [
              "<Axes: >"
            ]
          },
          "metadata": {},
          "execution_count": 91
        },
        {
          "output_type": "display_data",
          "data": {
            "text/plain": [
              "<Figure size 640x480 with 1 Axes>"
            ],
            "image/png": "[encoded data removed]"
          },
          "metadata": {}
        }
      ],
      "source": [
        "losses.plot()"
      ],
      "id": "eAt2bPORIjjH"
    },
    {
      "cell_type": "markdown",
      "metadata": {
        "id": "-gJ1bs3TEuUV"
      },
      "source": [
        "## 10. Predict, Evaluate"
      ],
      "id": "-gJ1bs3TEuUV"
    },
    {
      "cell_type": "code",
      "source": [
        "predictions = (model.predict(X_val) > 0.5).astype(\"int32\")"
      ],
      "metadata": {
        "colab": {
          "base_uri": "https://localhost:8080/"
        },
        "id": "PETqiojSRzJw",
        "outputId": "30b80188-53e7-44ad-fe9d-2941563c38ea"
      },
      "id": "PETqiojSRzJw",
      "execution_count": null,
      "outputs": [
        {
          "output_type": "stream",
          "name": "stdout",
          "text": [
            "2471/2471 [==============================] - 4s 1ms/step\n"
          ]
        }
      ]
    },
    {
      "cell_type": "code",
      "source": [
        "print(classification_report(y_val, predictions))"
      ],
      "metadata": {
        "colab": {
          "base_uri": "https://localhost:8080/"
        },
        "id": "QZd_b_KJymXb",
        "outputId": "56151869-3720-4593-ab30-a55faed636bc"
      },
      "id": "QZd_b_KJymXb",
      "execution_count": null,
      "outputs": [
        {
          "output_type": "stream",
          "name": "stdout",
          "text": [
            "              precision    recall  f1-score   support\n",
            "\n",
            "           0       0.99      0.43      0.60     15421\n",
            "           1       0.88      1.00      0.94     63623\n",
            "\n",
            "    accuracy                           0.89     79044\n",
            "   macro avg       0.94      0.72      0.77     79044\n",
            "weighted avg       0.90      0.89      0.87     79044\n",
            "\n"
          ]
        }
      ]
    },
    {
      "cell_type": "code",
      "source": [
        "print(confusion_matrix(y_val, predictions))"
      ],
      "metadata": {
        "colab": {
          "base_uri": "https://localhost:8080/"
        },
        "id": "MJa90hSezbA1",
        "outputId": "f9d0ea58-d983-4c34-a2f5-ae80fa812b70"
      },
      "id": "MJa90hSezbA1",
      "execution_count": null,
      "outputs": [
        {
          "output_type": "stream",
          "name": "stdout",
          "text": [
            "[[ 6697  8724]\n",
            " [   50 63573]]\n"
          ]
        }
      ]
    }
  ],
  "metadata": {
    "colab": {
      "provenance": [],
      "include_colab_link": true
    },
    "kernelspec": {
      "display_name": "Python 3 (ipykernel)",
      "language": "python",
      "name": "python3"
    },
    "language_info": {
      "codemirror_mode": {
        "name": "ipython",
        "version": 3
      },
      "file_extension": ".py",
      "mimetype": "text/x-python",
      "name": "python",
      "nbconvert_exporter": "python",
      "pygments_lexer": "ipython3",
      "version": "3.10.9"
    },
    "gpuClass": "standard"
  },
  "nbformat": 4,
  "nbformat_minor": 5
}